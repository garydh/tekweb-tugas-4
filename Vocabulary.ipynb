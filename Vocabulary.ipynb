{
  "nbformat": 4,
  "nbformat_minor": 0,
  "metadata": {
    "colab": {
      "name": "Tekweb Vocabulary Extended.ipynb",
      "provenance": [],
      "collapsed_sections": []
    },
    "kernelspec": {
      "name": "python3",
      "display_name": "Python 3"
    }
  },
  "cells": [
    {
      "cell_type": "markdown",
      "metadata": {
        "id": "pIOrhHVm9_t5"
      },
      "source": [
        "# **Vocabulary Lazada Indonesian Reviews**\n",
        "## Kontributor: Gary Dimitri Hamidi, Rakha Abadi Susilo, Nur Aini Rakhmawati\n",
        "## Email Kontributor: dimitri.18052@mhs.its.ac.id, \n",
        "05211840000102@mahasiswa.integra.its.ac.id\n",
        "\n",
        "### Departemen Sistem Informasi, Institut Teknologi Sepuluh Nopember\n"
      ]
    },
    {
      "cell_type": "markdown",
      "metadata": {
        "id": "WtfOlir1hhSd"
      },
      "source": [
        "\n",
        "## **Abstrak**\n",
        "\n",
        "Lazada merupakan salah satu e-commerce terbesar di dunia. Salah satu negara di mana Lazada menyediakan jasa mereka adalah di Indonesia. Di Indonesia, Lazada menengahi berbagai transaksi dalam berbagai bidang, salah satunya adalah barang elektronik. Di paper ini dilakukan pembuatan vocabulary terhadap produk-produk elektronik tertentu yang ada di Lazada, berdasarkan dataset yang diambil pada tahun 2019. Di paper ini dilakukan pembuatan dua vocabulary, yang pertama adalah vocabulary manual tanpa menggunakan vocabulary yang bersifat spesifik, dan yang kedua adalah vocabulary extended, di mana digunakan vocabulary GoodRelations (gr), Friend-of-a-Fried (foaf), dan schema.org (s).\n",
        "\n",
        "\n",
        "**Keyword**: E-commerce, lazada, xml, vocabulary, semantic web."
      ]
    },
    {
      "cell_type": "markdown",
      "metadata": {
        "id": "nBhYR3lXUHrM"
      },
      "source": [
        "\n",
        "\n",
        "---\n",
        "\n",
        "\n",
        "## **Dataset**\n",
        "\n"
      ]
    },
    {
      "cell_type": "markdown",
      "metadata": {
        "id": "k3-jxefAS6nq"
      },
      "source": [
        "Data yang terdiri dari 4286 baris dan 9 kolom merupakan yang didapat  dari e-commerce [Lazada](https://lazada.co.id) yang tersedia di [Kaggle](https://www.kaggle.com/grikomsn/lazada-indonesian-reviews). Setiap row mempresentasikan sebuah produk elektronik yang sedang dijual pada saat data diambil (2 Oktober 2019). Di data ini, sembilan kolom dapat dijelaskan seperti berikut:\n",
        "* **itemId** - ID Item / Produk di Lazada\n",
        "* **category** - Kategori di mana Lazada menaruh produk ini. Terdapat 5 kategori:\n",
        " * beli-harddisk-eksternal\n",
        " * beli-laptop\n",
        " * beli-smart-tv\n",
        " * jual-flash-drives\n",
        " * shop-televisi-digital\n",
        "* **name** - Nama produk yang dicantumkan oleh penjual.\n",
        "* **brandName** - Gender of customer\n",
        "* **url** - URL produk.\n",
        "* **price** - Harga produk.\n",
        "* **averagerating** - Nilai rata-rata ulasan pelanggan pada produk.\n",
        "* **totalReviews** - Jumlah ulasan pelanggan pada produk.\n",
        "* **retrievedDate** - Tanggal data diambil."
      ]
    },
    {
      "cell_type": "code",
      "metadata": {
        "id": "Jl62dognmwEr",
        "colab": {
          "base_uri": "https://localhost:8080/",
          "height": 568
        },
        "outputId": "307c0c92-1c8f-471a-fcac-48d479282503"
      },
      "source": [
        "from google_drive_downloader import GoogleDriveDownloader as gdd\n",
        "import pandas as pd \n",
        "\n",
        "gdd.download_file_from_google_drive(file_id='1h2_LvGAEeieqcZSRLs0YnP2MjYJYJGbd', dest_path='./data.xls', showsize=True)\n",
        "data = pd.read_excel('data.xls')\n",
        "data"
      ],
      "execution_count": null,
      "outputs": [
        {
          "output_type": "execute_result",
          "data": {
            "text/html": [
              "<div>\n",
              "<style scoped>\n",
              "    .dataframe tbody tr th:only-of-type {\n",
              "        vertical-align: middle;\n",
              "    }\n",
              "\n",
              "    .dataframe tbody tr th {\n",
              "        vertical-align: top;\n",
              "    }\n",
              "\n",
              "    .dataframe thead th {\n",
              "        text-align: right;\n",
              "    }\n",
              "</style>\n",
              "<table border=\"1\" class=\"dataframe\">\n",
              "  <thead>\n",
              "    <tr style=\"text-align: right;\">\n",
              "      <th></th>\n",
              "      <th>itemId</th>\n",
              "      <th>category</th>\n",
              "      <th>name</th>\n",
              "      <th>brandName</th>\n",
              "      <th>url</th>\n",
              "      <th>price</th>\n",
              "      <th>averageRating</th>\n",
              "      <th>totalReviews</th>\n",
              "      <th>retrievedDate</th>\n",
              "    </tr>\n",
              "  </thead>\n",
              "  <tbody>\n",
              "    <tr>\n",
              "      <th>0</th>\n",
              "      <td>100002528</td>\n",
              "      <td>beli-harddisk-eksternal</td>\n",
              "      <td>TOSHIBA Smart HD LED TV 32\" - 32L5650VJ Free B...</td>\n",
              "      <td>Toshiba</td>\n",
              "      <td>https://www.lazada.co.id/products/toshiba-smar...</td>\n",
              "      <td>2499000</td>\n",
              "      <td>4</td>\n",
              "      <td>8</td>\n",
              "      <td>2019-10-02</td>\n",
              "    </tr>\n",
              "    <tr>\n",
              "      <th>1</th>\n",
              "      <td>100003785</td>\n",
              "      <td>beli-harddisk-eksternal</td>\n",
              "      <td>TOSHIBA Full HD Smart LED TV 40\" - 40L5650VJ -...</td>\n",
              "      <td>Toshiba</td>\n",
              "      <td>https://www.lazada.co.id/products/toshiba-full...</td>\n",
              "      <td>3788000</td>\n",
              "      <td>3</td>\n",
              "      <td>3</td>\n",
              "      <td>2019-10-02</td>\n",
              "    </tr>\n",
              "    <tr>\n",
              "      <th>2</th>\n",
              "      <td>100004132</td>\n",
              "      <td>beli-harddisk-eksternal</td>\n",
              "      <td>Samsung 40 Inch Full HD Flat LED Digital TV 40...</td>\n",
              "      <td>LG</td>\n",
              "      <td>https://www.lazada.co.id/products/samsung-40-i...</td>\n",
              "      <td>3850000</td>\n",
              "      <td>3</td>\n",
              "      <td>2</td>\n",
              "      <td>2019-10-02</td>\n",
              "    </tr>\n",
              "    <tr>\n",
              "      <th>3</th>\n",
              "      <td>100004505</td>\n",
              "      <td>beli-harddisk-eksternal</td>\n",
              "      <td>Sharp HD LED TV 24\" - LC-24LE175I - Hitam</td>\n",
              "      <td>Sharp</td>\n",
              "      <td>https://www.lazada.co.id/products/sharp-hd-led...</td>\n",
              "      <td>1275000</td>\n",
              "      <td>3</td>\n",
              "      <td>11</td>\n",
              "      <td>2019-10-02</td>\n",
              "    </tr>\n",
              "    <tr>\n",
              "      <th>4</th>\n",
              "      <td>100005037</td>\n",
              "      <td>beli-harddisk-eksternal</td>\n",
              "      <td>Lenovo Ideapad 130-15AST LAPTOP MULTIMEDIA I A...</td>\n",
              "      <td>Lenovo</td>\n",
              "      <td>https://www.lazada.co.id/products/lenovo-ideap...</td>\n",
              "      <td>3984100</td>\n",
              "      <td>5</td>\n",
              "      <td>1</td>\n",
              "      <td>2019-10-02</td>\n",
              "    </tr>\n",
              "    <tr>\n",
              "      <th>...</th>\n",
              "      <td>...</td>\n",
              "      <td>...</td>\n",
              "      <td>...</td>\n",
              "      <td>...</td>\n",
              "      <td>...</td>\n",
              "      <td>...</td>\n",
              "      <td>...</td>\n",
              "      <td>...</td>\n",
              "      <td>...</td>\n",
              "    </tr>\n",
              "    <tr>\n",
              "      <th>10937</th>\n",
              "      <td>9467887</td>\n",
              "      <td>shop-televisi-digital</td>\n",
              "      <td>Toshiba 32L3750VJ Digital Tv DVB-T2 LED TV 32\"...</td>\n",
              "      <td>Toshiba</td>\n",
              "      <td>https://www.lazada.co.id/products/toshiba-32l3...</td>\n",
              "      <td>1990000</td>\n",
              "      <td>4</td>\n",
              "      <td>12</td>\n",
              "      <td>2019-10-02</td>\n",
              "    </tr>\n",
              "    <tr>\n",
              "      <th>10938</th>\n",
              "      <td>9467898</td>\n",
              "      <td>shop-televisi-digital</td>\n",
              "      <td>Samsung 43K5002AK Televisi LED - Khusus JABODE...</td>\n",
              "      <td>Samsung</td>\n",
              "      <td>https://www.lazada.co.id/products/samsung-43k5...</td>\n",
              "      <td>4590000</td>\n",
              "      <td>1</td>\n",
              "      <td>1</td>\n",
              "      <td>2019-10-02</td>\n",
              "    </tr>\n",
              "    <tr>\n",
              "      <th>10939</th>\n",
              "      <td>9467899</td>\n",
              "      <td>shop-televisi-digital</td>\n",
              "      <td>Sharp 32LE180i  AQUOS LED TV 32 \" Khusus JABOD...</td>\n",
              "      <td>Sharp</td>\n",
              "      <td>https://www.lazada.co.id/products/sharp-32le18...</td>\n",
              "      <td>1990000</td>\n",
              "      <td>4</td>\n",
              "      <td>2</td>\n",
              "      <td>2019-10-02</td>\n",
              "    </tr>\n",
              "    <tr>\n",
              "      <th>10940</th>\n",
              "      <td>9548087</td>\n",
              "      <td>shop-televisi-digital</td>\n",
              "      <td>Akari LED TV LE-50D88 50\" FULL HD (Hitam)   - ...</td>\n",
              "      <td>Akari</td>\n",
              "      <td>https://www.lazada.co.id/products/akari-led-tv...</td>\n",
              "      <td>4790000</td>\n",
              "      <td>5</td>\n",
              "      <td>1</td>\n",
              "      <td>2019-10-02</td>\n",
              "    </tr>\n",
              "    <tr>\n",
              "      <th>10941</th>\n",
              "      <td>9548767</td>\n",
              "      <td>shop-televisi-digital</td>\n",
              "      <td>Akari LED TV LE-25B88 25\" HD READY (Hitam)   -...</td>\n",
              "      <td>Akari</td>\n",
              "      <td>https://www.lazada.co.id/products/akari-led-tv...</td>\n",
              "      <td>1590000</td>\n",
              "      <td>4</td>\n",
              "      <td>2</td>\n",
              "      <td>2019-10-02</td>\n",
              "    </tr>\n",
              "  </tbody>\n",
              "</table>\n",
              "<p>10942 rows × 9 columns</p>\n",
              "</div>"
            ],
            "text/plain": [
              "          itemId                 category  ... totalReviews retrievedDate\n",
              "0      100002528  beli-harddisk-eksternal  ...            8    2019-10-02\n",
              "1      100003785  beli-harddisk-eksternal  ...            3    2019-10-02\n",
              "2      100004132  beli-harddisk-eksternal  ...            2    2019-10-02\n",
              "3      100004505  beli-harddisk-eksternal  ...           11    2019-10-02\n",
              "4      100005037  beli-harddisk-eksternal  ...            1    2019-10-02\n",
              "...          ...                      ...  ...          ...           ...\n",
              "10937    9467887    shop-televisi-digital  ...           12    2019-10-02\n",
              "10938    9467898    shop-televisi-digital  ...            1    2019-10-02\n",
              "10939    9467899    shop-televisi-digital  ...            2    2019-10-02\n",
              "10940    9548087    shop-televisi-digital  ...            1    2019-10-02\n",
              "10941    9548767    shop-televisi-digital  ...            2    2019-10-02\n",
              "\n",
              "[10942 rows x 9 columns]"
            ]
          },
          "metadata": {},
          "execution_count": 26
        }
      ]
    },
    {
      "cell_type": "code",
      "metadata": {
        "colab": {
          "base_uri": "https://localhost:8080/"
        },
        "id": "Fpj94A0YTres",
        "outputId": "d2aead7d-6fe7-4d2b-c849-113cfb62b5b0"
      },
      "source": [
        "!python -m pip install --no-input jupyter-rdfify"
      ],
      "execution_count": null,
      "outputs": [
        {
          "output_type": "stream",
          "name": "stdout",
          "text": [
            "Requirement already satisfied: jupyter-rdfify in /usr/local/lib/python3.7/dist-packages (1.0.1)\n",
            "Requirement already satisfied: graphviz in /usr/local/lib/python3.7/dist-packages (from jupyter-rdfify) (0.10.1)\n",
            "Requirement already satisfied: PyShEx in /usr/local/lib/python3.7/dist-packages (from jupyter-rdfify) (0.7.20)\n",
            "Requirement already satisfied: rdflib in /usr/local/lib/python3.7/dist-packages (from jupyter-rdfify) (5.0.0)\n",
            "Requirement already satisfied: rdflib-jsonld in /usr/local/lib/python3.7/dist-packages (from jupyter-rdfify) (0.6.2)\n",
            "Requirement already satisfied: owlrl in /usr/local/lib/python3.7/dist-packages (from jupyter-rdfify) (5.2.3)\n",
            "Requirement already satisfied: ipython>=7.0.0 in /usr/local/lib/python3.7/dist-packages (from jupyter-rdfify) (7.27.0)\n",
            "Requirement already satisfied: sparqlwrapper in /usr/local/lib/python3.7/dist-packages (from jupyter-rdfify) (1.8.5)\n",
            "Requirement already satisfied: decorator in /usr/local/lib/python3.7/dist-packages (from ipython>=7.0.0->jupyter-rdfify) (4.4.2)\n",
            "Requirement already satisfied: pygments in /usr/local/lib/python3.7/dist-packages (from ipython>=7.0.0->jupyter-rdfify) (2.6.1)\n",
            "Requirement already satisfied: pickleshare in /usr/local/lib/python3.7/dist-packages (from ipython>=7.0.0->jupyter-rdfify) (0.7.5)\n",
            "Requirement already satisfied: setuptools>=18.5 in /usr/local/lib/python3.7/dist-packages (from ipython>=7.0.0->jupyter-rdfify) (57.4.0)\n",
            "Requirement already satisfied: prompt-toolkit!=3.0.0,!=3.0.1,<3.1.0,>=2.0.0 in /usr/local/lib/python3.7/dist-packages (from ipython>=7.0.0->jupyter-rdfify) (3.0.20)\n",
            "Requirement already satisfied: pexpect>4.3 in /usr/local/lib/python3.7/dist-packages (from ipython>=7.0.0->jupyter-rdfify) (4.8.0)\n",
            "Requirement already satisfied: backcall in /usr/local/lib/python3.7/dist-packages (from ipython>=7.0.0->jupyter-rdfify) (0.2.0)\n",
            "Requirement already satisfied: jedi>=0.16 in /usr/local/lib/python3.7/dist-packages (from ipython>=7.0.0->jupyter-rdfify) (0.18.0)\n",
            "Requirement already satisfied: matplotlib-inline in /usr/local/lib/python3.7/dist-packages (from ipython>=7.0.0->jupyter-rdfify) (0.1.3)\n",
            "Requirement already satisfied: traitlets>=4.2 in /usr/local/lib/python3.7/dist-packages (from ipython>=7.0.0->jupyter-rdfify) (5.1.0)\n",
            "Requirement already satisfied: parso<0.9.0,>=0.8.0 in /usr/local/lib/python3.7/dist-packages (from jedi>=0.16->ipython>=7.0.0->jupyter-rdfify) (0.8.2)\n",
            "Requirement already satisfied: ptyprocess>=0.5 in /usr/local/lib/python3.7/dist-packages (from pexpect>4.3->ipython>=7.0.0->jupyter-rdfify) (0.7.0)\n",
            "Requirement already satisfied: wcwidth in /usr/local/lib/python3.7/dist-packages (from prompt-toolkit!=3.0.0,!=3.0.1,<3.1.0,>=2.0.0->ipython>=7.0.0->jupyter-rdfify) (0.2.5)\n",
            "Requirement already satisfied: isodate in /usr/local/lib/python3.7/dist-packages (from rdflib->jupyter-rdfify) (0.6.0)\n",
            "Requirement already satisfied: six in /usr/local/lib/python3.7/dist-packages (from rdflib->jupyter-rdfify) (1.15.0)\n",
            "Requirement already satisfied: pyparsing in /usr/local/lib/python3.7/dist-packages (from rdflib->jupyter-rdfify) (2.4.7)\n",
            "Requirement already satisfied: sparqlslurper~=0.4 in /usr/local/lib/python3.7/dist-packages (from PyShEx->jupyter-rdfify) (0.4.1)\n",
            "Requirement already satisfied: requests>=2.22.0 in /usr/local/lib/python3.7/dist-packages (from PyShEx->jupyter-rdfify) (2.23.0)\n",
            "Requirement already satisfied: pyshexc==0.8.3 in /usr/local/lib/python3.7/dist-packages (from PyShEx->jupyter-rdfify) (0.8.3)\n",
            "Requirement already satisfied: shexjsg>=0.7.1 in /usr/local/lib/python3.7/dist-packages (from PyShEx->jupyter-rdfify) (0.7.1)\n",
            "Requirement already satisfied: cfgraph>=0.2.1 in /usr/local/lib/python3.7/dist-packages (from PyShEx->jupyter-rdfify) (0.2.1)\n",
            "Requirement already satisfied: urllib3 in /usr/local/lib/python3.7/dist-packages (from PyShEx->jupyter-rdfify) (1.24.3)\n",
            "Requirement already satisfied: pyjsg>=0.11.6 in /usr/local/lib/python3.7/dist-packages (from pyshexc==0.8.3->PyShEx->jupyter-rdfify) (0.11.6)\n",
            "Requirement already satisfied: antlr4-python3-runtime~=4.9 in /usr/local/lib/python3.7/dist-packages (from pyshexc==0.8.3->PyShEx->jupyter-rdfify) (4.9.2)\n",
            "Requirement already satisfied: jsonasobj>=1.2.1 in /usr/local/lib/python3.7/dist-packages (from pyshexc==0.8.3->PyShEx->jupyter-rdfify) (1.3.1)\n",
            "Requirement already satisfied: idna<3,>=2.5 in /usr/local/lib/python3.7/dist-packages (from requests>=2.22.0->PyShEx->jupyter-rdfify) (2.10)\n",
            "Requirement already satisfied: certifi>=2017.4.17 in /usr/local/lib/python3.7/dist-packages (from requests>=2.22.0->PyShEx->jupyter-rdfify) (2021.5.30)\n",
            "Requirement already satisfied: chardet<4,>=3.0.2 in /usr/local/lib/python3.7/dist-packages (from requests>=2.22.0->PyShEx->jupyter-rdfify) (3.0.4)\n"
          ]
        }
      ]
    },
    {
      "cell_type": "code",
      "metadata": {
        "colab": {
          "base_uri": "https://localhost:8080/",
          "height": 17
        },
        "id": "FLuKMOPeTsci",
        "outputId": "36af5bcd-6373-4442-b7a4-4ef5ccd8f1a4"
      },
      "source": [
        "%reload_ext jupyter-rdfify"
      ],
      "execution_count": null,
      "outputs": [
        {
          "output_type": "display_data",
          "data": {
            "application/javascript": [
              "\n",
              "    if (typeof IPython !== \"undefined\") {\n",
              "        IPython.CodeCell.options_default.highlight_modes['application/sparql-query'] = {'reg':[/^%%rdf sparql/]};\n",
              "        IPython.CodeCell.options_default.highlight_modes['text/turtle'] = {'reg':[/^%%rdf turtle/, /^%%rdf shex/]};\n",
              "        IPython.CodeCell.options_default.highlight_modes['application/ld+json'] = {'reg':[/^%%rdf json-ld/]};\n",
              "        IPython.notebook.get_cells().map(function(cell){ if (cell.cell_type == 'code'){ cell.auto_highlight(); } });\n",
              "    }\n",
              "    "
            ]
          },
          "metadata": {}
        }
      ]
    },
    {
      "cell_type": "markdown",
      "metadata": {
        "id": "2PYjcyPrUMMb"
      },
      "source": [
        "\n",
        "\n",
        "---\n",
        "\n",
        "\n",
        "## **Vocabulary**"
      ]
    },
    {
      "cell_type": "markdown",
      "metadata": {
        "id": "oRNF5EtOsd7m"
      },
      "source": [
        "### **Namespaces**"
      ]
    },
    {
      "cell_type": "markdown",
      "metadata": {
        "id": "hA5x-JE4ryo_"
      },
      "source": [
        "* @prefix rdfs: <http://www.w3.org/2000/01/rdf-schema#> .\n",
        "* @prefix rdf: <http://www.w3.org/1999/02/22-rdf-syntax-ns#> .\n",
        "* @prefix xsd: <http://www.w3.org/2001/XMLSchema#> .\n",
        "* @prefix ex: <http://example.com/> .\n",
        "* @prefix gr: <http://purl.org/goodrelations/v1#>"
      ]
    },
    {
      "cell_type": "markdown",
      "metadata": {
        "id": "9Cc-k4l9q7Xv"
      },
      "source": [
        "### **Classes**"
      ]
    },
    {
      "cell_type": "markdown",
      "metadata": {
        "id": "HmsRVEOZAhTg"
      },
      "source": [
        "Terdapat 3 kelas pada vocabulary ini:\n",
        "* **Kategori**. Contoh: \"beli-smart-tv\". Properti class Kategori adalah:\n",
        " * **memilikiMerk [class:merk]**: Kategori memilikiMerk Toshiba.\n",
        "\n",
        "<br>\n",
        "\n",
        "* **Merk**. Contoh:  \"Toshiba\". Properti class Merk adalah:\n",
        " * **memilikiProduk [class:produk]**: Toshiba memilikiProduk TOSHIBA_Smart_HD_LED_TV_32.\n",
        "\n",
        "<br>\n",
        "\n",
        "\n",
        "* **Produk**. Contoh: \"TOSHIBA_Smart_HD_LED_TV_32\". Properti class Merk adalah:\n",
        " * **memilikiUri [xsd:anyUri]**: TOSHIBA_Smart_HD_LED_TV_32 memilkiUri \"https://www.lazada.co.id/products/toshiba-smart-hd-led-tv-32.html\"\n",
        " * **memilikiHarga [xsd:currency]**: TOSHIBA_Smart_HD_LED_TV_32 memilkiHarga \"2499000\".\n",
        " * **memilikiRating [xsd:integer]**: TOSHIBA_Smart_HD_LED_TV_32 memilkiRating \"4\".\n",
        " * **memilikiTotalReview [xsd:integer]**: TOSHIBA_Smart_HD_LED_TV_32 memilkiTotalReview \"4\".\n",
        " * **memilikiTanggalMasuk [xsd:date]**: TOSHIBA_Smart_HD_LED_TV_32 memilikiTanggalMasuk \"2019-10-02\".\n"
      ]
    },
    {
      "cell_type": "markdown",
      "metadata": {
        "id": "_IJ9n6zdrNE1"
      },
      "source": [
        "### **Instances**"
      ]
    },
    {
      "cell_type": "markdown",
      "metadata": {
        "id": "0ZZTmK9frZlO"
      },
      "source": [
        "#### **Instance 1**"
      ]
    },
    {
      "cell_type": "markdown",
      "metadata": {
        "id": "mslKRrP4pZyv"
      },
      "source": [
        "* beli-smart-tv merupakan Kategori\n",
        "* beli-smart-tv memilikiMerk Toshiba\n",
        "* Toshiba memilikiProduk TOSHIBA_Smart_HD_LED_TV_32\n",
        "* TOSHIBA_Smart_HD_LED_TV_32 merupakan Produk.\n",
        "* TOSHIBA_Smart_HD_LED_TV_32 memilikiUri https://www.lazada.co.id/products/toshiba-smart-hd-led-tv-32.html.\n",
        "* TOSHIBA_Smart_HD_LED_TV_32 memilikiHarga 2499000.\n",
        "* TOSHIBA_Smart_HD_LED_TV_32 memilikiRating 4.\n",
        "* TOSHIBA_Smart_HD_LED_TV_32 memilikiTotalReview 8.\n",
        "* TOSHIBA_Smart_HD_LED_TV_32 memilikiTanggalMasuk 2019-10-02."
      ]
    },
    {
      "cell_type": "code",
      "metadata": {
        "id": "nXZL4AMNA5uR",
        "colab": {
          "base_uri": "https://localhost:8080/",
          "height": 564
        },
        "outputId": "69cd9cf8-2ec3-4a02-8e03-d9c17298e7b0"
      },
      "source": [
        "%%rdf turtle\n",
        "@prefix rdfs: <http://www.w3.org/2000/01/rdf-schema#> .\n",
        "@prefix rdf: <http://www.w3.org/1999/02/22-rdf-syntax-ns#> .\n",
        "@prefix xsd: <http://www.w3.org/2001/XMLSchema#> .\n",
        "@prefix ex: <http://example.com/> .\n",
        "\n",
        "######**CLASS**\n",
        "ex:category a rdfs:Class .\n",
        "ex:merk a rdfs:Class .\n",
        "ex:produk a rdfs:Class .\n",
        "\n",
        "####**PROPERTIES**\n",
        "ex:memilkiMerk a rdf:Property .\n",
        "ex:memilkiMerk rdfs:domain ex:category .\n",
        "ex:memilkiMerk rdfs:range ex:merk .\n",
        "ex:memilkiProduk a rdf:Property .\n",
        "ex:memilkiProduk rdfs:domain ex:merk .\n",
        "ex:memilkiProduk rdfs:range ex:produk .\n",
        "ex:memilkiUri a rdf:Property .\n",
        "ex:memilkiUri rdfs:domain ex:produk .\n",
        "ex:memilkiUri rdfs:range xsd:anyUri .\n",
        "ex:memilikiHarga a rdf:Property .\n",
        "ex:memilikiHarga rdfs:domain ex:produk .\n",
        "ex:memilikiHarga rdfs:range xsd:integer .\n",
        "ex:memilikiRating a rdf:Property .\n",
        "ex:memilikiRating rdfs:domain ex:produk .\n",
        "ex:memilikiRating rdfs:range xsd:integer .\n",
        "\n",
        "ex:memilkiTotalReview a rdf:Property .\n",
        "ex:memilkiTotalReview rdfs:domain ex:produk .\n",
        "ex:memilkiTotalReview rdfs:range xsd:integer .\n",
        "ex:memilikiTanggalMasuk a rdf:Property .\n",
        "ex:memilikiTanggalMasuk rdfs:domain ex:produk .\n",
        "ex:memilikiTanggalMasuk rdfs:range xsd:date .\n",
        "\n",
        "#####**INSTANCES**\n",
        "\n",
        "#####\n",
        "ex:TOSHIBA_Smart_HD_LED_TV_32 a ex:produk.\n",
        "ex:TOSHIBA_Smart_HD_LED_TV_32 ex:memilikiUri \"https://www.lazada.co.id/products/toshiba-smart-hd-led-tv-32.html\"^^xsd:anyUri.\n",
        "ex:TOSHIBA_Smart_HD_LED_TV_32 ex:memilikiHarga \"2499000\"^^xsd:integer.\n",
        "ex:TOSHIBA_Smart_HD_LED_TV_32 ex:memilikiRating \"4\"^^xsd:integer.\n",
        "ex:TOSHIBA_Smart_HD_LED_TV_32 ex:memilikiTotalReview \"8\"^^xsd:integer.\n",
        "ex:TOSHIBA_Smart_HD_LED_TV_32 ex:memilikiTanggalMasuk \"2019-10-02\"^^xsd:date.\n",
        "#####\n",
        "\n",
        "ex:beli-smart-tv a ex:category.\n",
        "\n",
        "ex:beli-smart-tv ex:memilikiMerk ex:Toshiba .\n",
        "\n",
        "ex:Toshiba ex:memilkiProduk ex:TOSHIBA_Smart_HD_LED_TV_32.\n",
        "ex:Toshiba a ex:merk.\n",
        "\n",
        "ex:TOSHIBA_Smart_HD_LED_TV_32 a ex:produk.\n",
        "ex:TOSHIBA_Smart_HD_LED_TV_32 ex:memilikiUri \"https://www.lazada.co.id/products/toshiba-smart-hd-led-tv-32.html\"^^xsd:anyUri.\n",
        "ex:TOSHIBA_Smart_HD_LED_TV_32 ex:memilikiHarga \"2499000\"^^xsd:integer. #currency #memiliki produk\n",
        "ex:TOSHIBA_Smart_HD_LED_TV_32 ex:memilikiRating \"4\"^^xsd:integer.\n",
        "ex:TOSHIBA_Smart_HD_LED_TV_32 ex:memilikiTotalReview \"8\"^^xsd:integer.\n",
        "ex:TOSHIBA_Smart_HD_LED_TV_32 ex:memilikiTanggalMasuk \"2019-10-02\"^^xsd:date."
      ],
      "execution_count": null,
      "outputs": [
        {
          "output_type": "display_data",
          "data": {
            "text/plain": [
              "<graphviz.dot.Digraph at 0x7f81a617efd0>"
            ],
            "image/svg+xml": "<?xml version=\"1.0\" encoding=\"UTF-8\" standalone=\"no\"?>\n<!DOCTYPE svg PUBLIC \"-//W3C//DTD SVG 1.1//EN\"\n \"http://www.w3.org/Graphics/SVG/1.1/DTD/svg11.dtd\">\n<!-- Generated by graphviz version 2.40.1 (20161225.0304)\n -->\n<!-- Title: %3 Pages: 1 -->\n<svg width=\"2890pt\" height=\"392pt\"\n viewBox=\"0.00 0.00 2890.13 392.00\" xmlns=\"http://www.w3.org/2000/svg\" xmlns:xlink=\"http://www.w3.org/1999/xlink\">\n<g id=\"graph0\" class=\"graph\" transform=\"scale(1 1) rotate(0) translate(4 388)\">\n<title>%3</title>\n<polygon fill=\"#ffffff\" stroke=\"transparent\" points=\"-4,4 -4,-388 2886.1311,-388 2886.1311,4 -4,4\"/>\n<!-- 0 -->\n<g id=\"node1\" class=\"node\">\n<title>0</title>\n<polygon fill=\"none\" stroke=\"#000000\" points=\"2705.6311,-123 2218.6311,-123 2218.6311,-87 2705.6311,-87 2705.6311,-123\"/>\n<text text-anchor=\"middle\" x=\"2462.1311\" y=\"-101.3\" font-family=\"Times,serif\" font-size=\"14.00\" fill=\"#000000\">&quot;https://www.lazada.co.id/products/toshiba&#45;smart&#45;hd&#45;led&#45;tv&#45;32.html&quot;^^xsd:anyUri</text>\n</g>\n<!-- 1 -->\n<g id=\"node2\" class=\"node\">\n<title>1</title>\n<ellipse fill=\"none\" stroke=\"#000000\" cx=\"513.1311\" cy=\"-192\" rx=\"79.8859\" ry=\"18\"/>\n<text text-anchor=\"middle\" x=\"513.1311\" y=\"-188.3\" font-family=\"Times,serif\" font-size=\"14.00\" fill=\"#000000\">ex:memilikiRating</text>\n</g>\n<!-- 11 -->\n<g id=\"node12\" class=\"node\">\n<title>11</title>\n<ellipse fill=\"none\" stroke=\"#000000\" cx=\"84.1311\" cy=\"-105\" rx=\"51.9908\" ry=\"18\"/>\n<text text-anchor=\"middle\" x=\"84.1311\" y=\"-101.3\" font-family=\"Times,serif\" font-size=\"14.00\" fill=\"#000000\">xsd:integer</text>\n</g>\n<!-- 1&#45;&gt;11 -->\n<g id=\"edge5\" class=\"edge\">\n<title>1&#45;&gt;11</title>\n<path fill=\"none\" stroke=\"#000000\" d=\"M455.8654,-179.282C445.3508,-177.271 434.4412,-175.3977 424.1311,-174 310.6669,-158.6186 276.0254,-191.3943 167.1311,-156 155.1685,-152.1118 153.8334,-147.6093 143.1311,-141 135.2683,-136.1442 126.7966,-130.9519 118.794,-126.065\"/>\n<polygon fill=\"#000000\" stroke=\"#000000\" points=\"120.3755,-122.93 110.0155,-120.7115 116.7308,-128.9063 120.3755,-122.93\"/>\n<text text-anchor=\"middle\" x=\"196.1311\" y=\"-144.8\" font-family=\"Times,serif\" font-size=\"14.00\" fill=\"#000000\">rdfs:range</text>\n</g>\n<!-- 13 -->\n<g id=\"node14\" class=\"node\">\n<title>13</title>\n<ellipse fill=\"none\" stroke=\"#000000\" cx=\"453.1311\" cy=\"-105\" rx=\"55.7903\" ry=\"18\"/>\n<text text-anchor=\"middle\" x=\"453.1311\" y=\"-101.3\" font-family=\"Times,serif\" font-size=\"14.00\" fill=\"#000000\">rdf:Property</text>\n</g>\n<!-- 1&#45;&gt;13 -->\n<g id=\"edge30\" class=\"edge\">\n<title>1&#45;&gt;13</title>\n<path fill=\"none\" stroke=\"#000000\" d=\"M456.0891,-179.2913C424.1338,-171.5961 389.766,-162.1182 385.1311,-156 374.963,-142.5775 387.37,-130.988 404.2472,-122.2643\"/>\n<polygon fill=\"#000000\" stroke=\"#000000\" points=\"405.8235,-125.3908 413.3845,-117.969 402.8455,-119.0558 405.8235,-125.3908\"/>\n<text text-anchor=\"middle\" x=\"408.1311\" y=\"-144.8\" font-family=\"Times,serif\" font-size=\"14.00\" fill=\"#000000\">rdf:type</text>\n</g>\n<!-- 17 -->\n<g id=\"node18\" class=\"node\">\n<title>17</title>\n<ellipse fill=\"none\" stroke=\"#000000\" cx=\"1055.1311\" cy=\"-105\" rx=\"49.2915\" ry=\"18\"/>\n<text text-anchor=\"middle\" x=\"1055.1311\" y=\"-101.3\" font-family=\"Times,serif\" font-size=\"14.00\" fill=\"#000000\">ex:produk</text>\n</g>\n<!-- 1&#45;&gt;17 -->\n<g id=\"edge22\" class=\"edge\">\n<title>1&#45;&gt;17</title>\n<path fill=\"none\" stroke=\"#000000\" d=\"M592.7655,-189.7354C687.771,-186.1188 840.3892,-177.1498 893.1311,-156 903.117,-151.9956 902.4785,-145.7518 912.1311,-141 939.2189,-127.6651 971.6973,-118.9763 998.8509,-113.4829\"/>\n<polygon fill=\"#000000\" stroke=\"#000000\" points=\"999.8182,-116.8609 1008.9747,-111.5309 998.4929,-109.9875 999.8182,-116.8609\"/>\n<text text-anchor=\"middle\" x=\"947.1311\" y=\"-144.8\" font-family=\"Times,serif\" font-size=\"14.00\" fill=\"#000000\">rdfs:domain</text>\n</g>\n<!-- 2 -->\n<g id=\"node3\" class=\"node\">\n<title>2</title>\n<ellipse fill=\"none\" stroke=\"#000000\" cx=\"1310.1311\" cy=\"-192\" rx=\"80.6858\" ry=\"18\"/>\n<text text-anchor=\"middle\" x=\"1310.1311\" y=\"-188.3\" font-family=\"Times,serif\" font-size=\"14.00\" fill=\"#000000\">ex:memilkiProduk</text>\n</g>\n<!-- 6 -->\n<g id=\"node7\" class=\"node\">\n<title>6</title>\n<ellipse fill=\"none\" stroke=\"#000000\" cx=\"1592.1311\" cy=\"-105\" rx=\"40.8928\" ry=\"18\"/>\n<text text-anchor=\"middle\" x=\"1592.1311\" y=\"-101.3\" font-family=\"Times,serif\" font-size=\"14.00\" fill=\"#000000\">ex:merk</text>\n</g>\n<!-- 2&#45;&gt;6 -->\n<g id=\"edge12\" class=\"edge\">\n<title>2&#45;&gt;6</title>\n<path fill=\"none\" stroke=\"#000000\" d=\"M1383.6335,-184.4972C1415.5966,-179.3109 1452.8157,-170.5958 1484.1311,-156 1493.8828,-151.4549 1493.8284,-146.4049 1503.1311,-141 1517.5541,-132.6202 1534.3019,-125.2905 1549.3526,-119.4705\"/>\n<polygon fill=\"#000000\" stroke=\"#000000\" points=\"1550.8227,-122.6573 1558.9565,-115.8681 1548.3642,-116.1032 1550.8227,-122.6573\"/>\n<text text-anchor=\"middle\" x=\"1538.1311\" y=\"-144.8\" font-family=\"Times,serif\" font-size=\"14.00\" fill=\"#000000\">rdfs:domain</text>\n</g>\n<!-- 2&#45;&gt;13 -->\n<g id=\"edge11\" class=\"edge\">\n<title>2&#45;&gt;13</title>\n<path fill=\"none\" stroke=\"#000000\" d=\"M1253.2269,-179.1126C1242.2942,-177.0649 1230.8974,-175.2221 1220.1311,-174 1150.7701,-166.1269 658.7518,-176.8477 592.1311,-156 580.4841,-152.3553 580.1758,-146.1917 569.1311,-141 549.7858,-131.9065 527.572,-124.3698 507.7949,-118.5829\"/>\n<polygon fill=\"#000000\" stroke=\"#000000\" points=\"508.581,-115.1678 498.0051,-115.8006 506.6673,-121.9011 508.581,-115.1678\"/>\n<text text-anchor=\"middle\" x=\"615.1311\" y=\"-144.8\" font-family=\"Times,serif\" font-size=\"14.00\" fill=\"#000000\">rdf:type</text>\n</g>\n<!-- 2&#45;&gt;17 -->\n<g id=\"edge29\" class=\"edge\">\n<title>2&#45;&gt;17</title>\n<path fill=\"none\" stroke=\"#000000\" d=\"M1260.836,-177.6508C1240.368,-171.4134 1216.461,-163.7639 1195.1311,-156 1178.8432,-150.0713 1175.3287,-147.1712 1159.1311,-141 1140.4507,-133.8828 1119.6683,-126.57 1101.6223,-120.4104\"/>\n<polygon fill=\"#000000\" stroke=\"#000000\" points=\"1102.5033,-117.0134 1091.9089,-117.1155 1100.2546,-123.6424 1102.5033,-117.0134\"/>\n<text text-anchor=\"middle\" x=\"1224.1311\" y=\"-144.8\" font-family=\"Times,serif\" font-size=\"14.00\" fill=\"#000000\">rdfs:range</text>\n</g>\n<!-- 3 -->\n<g id=\"node4\" class=\"node\">\n<title>3</title>\n<polygon fill=\"none\" stroke=\"#000000\" points=\"2882.1311,-123 2724.1311,-123 2724.1311,-87 2882.1311,-87 2882.1311,-123\"/>\n<text text-anchor=\"middle\" x=\"2803.1311\" y=\"-101.3\" font-family=\"Times,serif\" font-size=\"14.00\" fill=\"#000000\">&quot;2019&#45;10&#45;02&quot;^^xsd:date</text>\n</g>\n<!-- 4 -->\n<g id=\"node5\" class=\"node\">\n<title>4</title>\n<polygon fill=\"none\" stroke=\"#000000\" points=\"1935.1311,-123 1777.1311,-123 1777.1311,-87 1935.1311,-87 1935.1311,-123\"/>\n<text text-anchor=\"middle\" x=\"1856.1311\" y=\"-101.3\" font-family=\"Times,serif\" font-size=\"14.00\" fill=\"#000000\">&quot;2499000&quot;^^xsd:integer</text>\n</g>\n<!-- 5 -->\n<g id=\"node6\" class=\"node\">\n<title>5</title>\n<ellipse fill=\"none\" stroke=\"#000000\" cx=\"1806.1311\" cy=\"-366\" rx=\"68.7879\" ry=\"18\"/>\n<text text-anchor=\"middle\" x=\"1806.1311\" y=\"-362.3\" font-family=\"Times,serif\" font-size=\"14.00\" fill=\"#000000\">ex:beli&#45;smart&#45;tv</text>\n</g>\n<!-- 9 -->\n<g id=\"node10\" class=\"node\">\n<title>9</title>\n<ellipse fill=\"none\" stroke=\"#000000\" cx=\"1705.1311\" cy=\"-105\" rx=\"53.8905\" ry=\"18\"/>\n<text text-anchor=\"middle\" x=\"1705.1311\" y=\"-101.3\" font-family=\"Times,serif\" font-size=\"14.00\" fill=\"#000000\">ex:category</text>\n</g>\n<!-- 5&#45;&gt;9 -->\n<g id=\"edge2\" class=\"edge\">\n<title>5&#45;&gt;9</title>\n<path fill=\"none\" stroke=\"#000000\" d=\"M1805.9019,-347.7325C1804.77,-312.303 1798.8269,-232.591 1769.1311,-174 1760.5063,-156.9828 1746.4346,-141.1343 1733.6792,-128.9287\"/>\n<polygon fill=\"#000000\" stroke=\"#000000\" points=\"1735.6932,-126.0251 1725.9678,-121.8219 1730.9493,-131.1726 1735.6932,-126.0251\"/>\n<text text-anchor=\"middle\" x=\"1815.1311\" y=\"-231.8\" font-family=\"Times,serif\" font-size=\"14.00\" fill=\"#000000\">rdf:type</text>\n</g>\n<!-- 14 -->\n<g id=\"node15\" class=\"node\">\n<title>14</title>\n<ellipse fill=\"none\" stroke=\"#000000\" cx=\"1870.1311\" cy=\"-279\" rx=\"51.9908\" ry=\"18\"/>\n<text text-anchor=\"middle\" x=\"1870.1311\" y=\"-275.3\" font-family=\"Times,serif\" font-size=\"14.00\" fill=\"#000000\">ex:Toshiba</text>\n</g>\n<!-- 5&#45;&gt;14 -->\n<g id=\"edge33\" class=\"edge\">\n<title>5&#45;&gt;14</title>\n<path fill=\"none\" stroke=\"#000000\" d=\"M1819.392,-347.9735C1828.5487,-335.5261 1840.8662,-318.782 1851.0719,-304.9087\"/>\n<polygon fill=\"#000000\" stroke=\"#000000\" points=\"1853.9999,-306.8349 1857.1063,-296.7057 1848.3612,-302.6869 1853.9999,-306.8349\"/>\n<text text-anchor=\"middle\" x=\"1891.1311\" y=\"-318.8\" font-family=\"Times,serif\" font-size=\"14.00\" fill=\"#000000\">ex:memilikiMerk</text>\n</g>\n<!-- 18 -->\n<g id=\"node19\" class=\"node\">\n<title>18</title>\n<ellipse fill=\"none\" stroke=\"#000000\" cx=\"1592.1311\" cy=\"-18\" rx=\"46.5926\" ry=\"18\"/>\n<text text-anchor=\"middle\" x=\"1592.1311\" y=\"-14.3\" font-family=\"Times,serif\" font-size=\"14.00\" fill=\"#000000\">rdfs:Class</text>\n</g>\n<!-- 6&#45;&gt;18 -->\n<g id=\"edge27\" class=\"edge\">\n<title>6&#45;&gt;18</title>\n<path fill=\"none\" stroke=\"#000000\" d=\"M1592.1311,-86.9735C1592.1311,-75.1918 1592.1311,-59.5607 1592.1311,-46.1581\"/>\n<polygon fill=\"#000000\" stroke=\"#000000\" points=\"1595.6312,-46.0033 1592.1311,-36.0034 1588.6312,-46.0034 1595.6312,-46.0033\"/>\n<text text-anchor=\"middle\" x=\"1615.1311\" y=\"-57.8\" font-family=\"Times,serif\" font-size=\"14.00\" fill=\"#000000\">rdf:type</text>\n</g>\n<!-- 7 -->\n<g id=\"node8\" class=\"node\">\n<title>7</title>\n<polygon fill=\"none\" stroke=\"#000000\" points=\"2066.6311,-123 1953.6311,-123 1953.6311,-87 2066.6311,-87 2066.6311,-123\"/>\n<text text-anchor=\"middle\" x=\"2010.1311\" y=\"-101.3\" font-family=\"Times,serif\" font-size=\"14.00\" fill=\"#000000\">&quot;8&quot;^^xsd:integer</text>\n</g>\n<!-- 8 -->\n<g id=\"node9\" class=\"node\">\n<title>8</title>\n<ellipse fill=\"none\" stroke=\"#000000\" cx=\"1101.1311\" cy=\"-192\" rx=\"110.4804\" ry=\"18\"/>\n<text text-anchor=\"middle\" x=\"1101.1311\" y=\"-188.3\" font-family=\"Times,serif\" font-size=\"14.00\" fill=\"#000000\">ex:memilikiTanggalMasuk</text>\n</g>\n<!-- 8&#45;&gt;13 -->\n<g id=\"edge15\" class=\"edge\">\n<title>8&#45;&gt;13</title>\n<path fill=\"none\" stroke=\"#000000\" d=\"M1024.1494,-179.081C1010.1989,-177.1036 995.7559,-175.2936 982.1311,-174 931.3204,-169.1759 571.3428,-172.7522 523.1311,-156 518.4014,-154.3565 499.642,-140.6157 482.7334,-127.8116\"/>\n<polygon fill=\"#000000\" stroke=\"#000000\" points=\"484.7278,-124.9311 474.6511,-121.6583 480.4875,-130.5007 484.7278,-124.9311\"/>\n<text text-anchor=\"middle\" x=\"546.1311\" y=\"-144.8\" font-family=\"Times,serif\" font-size=\"14.00\" fill=\"#000000\">rdf:type</text>\n</g>\n<!-- 8&#45;&gt;17 -->\n<g id=\"edge3\" class=\"edge\">\n<title>8&#45;&gt;17</title>\n<path fill=\"none\" stroke=\"#000000\" d=\"M1094.1681,-173.6855C1090.1788,-163.8008 1084.8388,-151.5069 1079.1311,-141 1077.3406,-137.7039 1075.3353,-134.3238 1073.2673,-131.018\"/>\n<polygon fill=\"#000000\" stroke=\"#000000\" points=\"1076.1417,-129.0181 1067.7508,-122.5494 1070.2764,-132.8388 1076.1417,-129.0181\"/>\n<text text-anchor=\"middle\" x=\"1120.1311\" y=\"-144.8\" font-family=\"Times,serif\" font-size=\"14.00\" fill=\"#000000\">rdfs:domain</text>\n</g>\n<!-- 20 -->\n<g id=\"node21\" class=\"node\">\n<title>20</title>\n<ellipse fill=\"none\" stroke=\"#000000\" cx=\"1440.1311\" cy=\"-105\" rx=\"41.6928\" ry=\"18\"/>\n<text text-anchor=\"middle\" x=\"1440.1311\" y=\"-101.3\" font-family=\"Times,serif\" font-size=\"14.00\" fill=\"#000000\">xsd:date</text>\n</g>\n<!-- 8&#45;&gt;20 -->\n<g id=\"edge28\" class=\"edge\">\n<title>8&#45;&gt;20</title>\n<path fill=\"none\" stroke=\"#000000\" d=\"M1180.425,-179.4183C1193.6677,-177.4859 1207.276,-175.6034 1220.1311,-174 1260.6799,-168.9426 1367.6818,-176.3255 1403.1311,-156 1413.0553,-150.3098 1421.0457,-140.7578 1427.0263,-131.4487\"/>\n<polygon fill=\"#000000\" stroke=\"#000000\" points=\"1430.099,-133.1279 1432.1418,-122.7318 1424.0618,-129.5849 1430.099,-133.1279\"/>\n<text text-anchor=\"middle\" x=\"1448.1311\" y=\"-144.8\" font-family=\"Times,serif\" font-size=\"14.00\" fill=\"#000000\">rdfs:range</text>\n</g>\n<!-- 9&#45;&gt;18 -->\n<g id=\"edge6\" class=\"edge\">\n<title>9&#45;&gt;18</title>\n<path fill=\"none\" stroke=\"#000000\" d=\"M1684.9349,-88.1675C1672.6882,-78.0823 1656.6693,-65.1042 1642.1311,-54 1636.0532,-49.3577 1629.4701,-44.5004 1623.138,-39.9102\"/>\n<polygon fill=\"#000000\" stroke=\"#000000\" points=\"1624.8917,-36.8602 1614.73,-33.8617 1620.8039,-42.5427 1624.8917,-36.8602\"/>\n<text text-anchor=\"middle\" x=\"1682.1311\" y=\"-57.8\" font-family=\"Times,serif\" font-size=\"14.00\" fill=\"#000000\">rdf:type</text>\n</g>\n<!-- 10 -->\n<g id=\"node11\" class=\"node\">\n<title>10</title>\n<ellipse fill=\"none\" stroke=\"#000000\" cx=\"1982.1311\" cy=\"-192\" rx=\"163.5712\" ry=\"18\"/>\n<text text-anchor=\"middle\" x=\"1982.1311\" y=\"-188.3\" font-family=\"Times,serif\" font-size=\"14.00\" fill=\"#000000\">ex:TOSHIBA_Smart_HD_LED_TV_32</text>\n</g>\n<!-- 10&#45;&gt;0 -->\n<g id=\"edge24\" class=\"edge\">\n<title>10&#45;&gt;0</title>\n<path fill=\"none\" stroke=\"#000000\" d=\"M2095.5674,-178.9657C2142.3526,-172.9587 2197.0136,-165.1256 2246.1311,-156 2291.9775,-147.4822 2342.7494,-135.6201 2383.544,-125.4794\"/>\n<polygon fill=\"#000000\" stroke=\"#000000\" points=\"2384.5708,-128.8304 2393.423,-123.0089 2382.8726,-122.0396 2384.5708,-128.8304\"/>\n<text text-anchor=\"middle\" x=\"2361.1311\" y=\"-144.8\" font-family=\"Times,serif\" font-size=\"14.00\" fill=\"#000000\">ex:memilikiUri</text>\n</g>\n<!-- 10&#45;&gt;3 -->\n<g id=\"edge18\" class=\"edge\">\n<title>10&#45;&gt;3</title>\n<path fill=\"none\" stroke=\"#000000\" d=\"M2127.0722,-183.5685C2273.0883,-173.8739 2504.8892,-155.2085 2714.096,-123.0841\"/>\n<polygon fill=\"#000000\" stroke=\"#000000\" points=\"2714.6941,-126.5333 2724.0407,-121.5442 2713.6229,-119.6158 2714.6941,-126.5333\"/>\n<text text-anchor=\"middle\" x=\"2652.1311\" y=\"-144.8\" font-family=\"Times,serif\" font-size=\"14.00\" fill=\"#000000\">ex:memilikiTanggalMasuk</text>\n</g>\n<!-- 10&#45;&gt;4 -->\n<g id=\"edge13\" class=\"edge\">\n<title>10&#45;&gt;4</title>\n<path fill=\"none\" stroke=\"#000000\" d=\"M1915.1729,-175.5223C1896.2516,-169.7104 1878.9445,-162.8976 1872.1311,-156 1866.0113,-149.8045 1862.2282,-141.298 1859.891,-133.0073\"/>\n<polygon fill=\"#000000\" stroke=\"#000000\" points=\"1863.2903,-132.1696 1857.6974,-123.1713 1856.4581,-133.6934 1863.2903,-132.1696\"/>\n<text text-anchor=\"middle\" x=\"1923.6311\" y=\"-144.8\" font-family=\"Times,serif\" font-size=\"14.00\" fill=\"#000000\">ex:memilikiHarga</text>\n</g>\n<!-- 10&#45;&gt;7 -->\n<g id=\"edge26\" class=\"edge\">\n<title>10&#45;&gt;7</title>\n<path fill=\"none\" stroke=\"#000000\" d=\"M1979.8035,-173.5868C1979.2103,-163.6733 1979.5566,-151.3832 1983.1311,-141 1984.2247,-137.8236 1985.7126,-134.6986 1987.4316,-131.6973\"/>\n<polygon fill=\"#000000\" stroke=\"#000000\" points=\"1990.5002,-133.4033 1993.1184,-123.137 1984.6695,-129.5298 1990.5002,-133.4033\"/>\n<text text-anchor=\"middle\" x=\"2054.1311\" y=\"-144.8\" font-family=\"Times,serif\" font-size=\"14.00\" fill=\"#000000\">ex:memilikiTotalReview</text>\n</g>\n<!-- 16 -->\n<g id=\"node17\" class=\"node\">\n<title>16</title>\n<polygon fill=\"none\" stroke=\"#000000\" points=\"2200.6311,-123 2087.6311,-123 2087.6311,-87 2200.6311,-87 2200.6311,-123\"/>\n<text text-anchor=\"middle\" x=\"2144.1311\" y=\"-101.3\" font-family=\"Times,serif\" font-size=\"14.00\" fill=\"#000000\">&quot;4&quot;^^xsd:integer</text>\n</g>\n<!-- 10&#45;&gt;16 -->\n<g id=\"edge31\" class=\"edge\">\n<title>10&#45;&gt;16</title>\n<path fill=\"none\" stroke=\"#000000\" d=\"M2070.3012,-176.7306C2094.2762,-171.0881 2116.1204,-164.0704 2125.1311,-156 2131.7362,-150.0842 2136.0519,-141.6523 2138.8692,-133.3439\"/>\n<polygon fill=\"#000000\" stroke=\"#000000\" points=\"2142.3138,-134.02 2141.6156,-123.4482 2135.5687,-132.148 2142.3138,-134.02\"/>\n<text text-anchor=\"middle\" x=\"2188.6311\" y=\"-144.8\" font-family=\"Times,serif\" font-size=\"14.00\" fill=\"#000000\">ex:memilikiRating</text>\n</g>\n<!-- 10&#45;&gt;17 -->\n<g id=\"edge4\" class=\"edge\">\n<title>10&#45;&gt;17</title>\n<path fill=\"none\" stroke=\"#000000\" d=\"M1846.5615,-181.8638C1806.5082,-179.0721 1762.5669,-176.2079 1722.1311,-174 1672.1656,-171.2717 1319.066,-173.3528 1272.1311,-156 1262.0399,-152.2691 1262.937,-145.427 1253.1311,-141 1228.4788,-129.8703 1161.2178,-119.0346 1111.9068,-112.2085\"/>\n<polygon fill=\"#000000\" stroke=\"#000000\" points=\"1112.3719,-108.7396 1101.9906,-110.856 1111.4258,-115.6754 1112.3719,-108.7396\"/>\n<text text-anchor=\"middle\" x=\"1295.1311\" y=\"-144.8\" font-family=\"Times,serif\" font-size=\"14.00\" fill=\"#000000\">rdf:type</text>\n</g>\n<!-- 12 -->\n<g id=\"node13\" class=\"node\">\n<title>12</title>\n<ellipse fill=\"none\" stroke=\"#000000\" cx=\"315.1311\" cy=\"-192\" rx=\"100.1823\" ry=\"18\"/>\n<text text-anchor=\"middle\" x=\"315.1311\" y=\"-188.3\" font-family=\"Times,serif\" font-size=\"14.00\" fill=\"#000000\">ex:memilkiTotalReview</text>\n</g>\n<!-- 12&#45;&gt;11 -->\n<g id=\"edge20\" class=\"edge\">\n<title>12&#45;&gt;11</title>\n<path fill=\"none\" stroke=\"#000000\" d=\"M241.5734,-179.6884C229.7276,-177.7531 217.5947,-175.7991 206.1311,-174 179.2751,-169.7852 103.0842,-176.4132 85.1311,-156 79.703,-149.828 78.0794,-141.4278 78.2151,-133.2263\"/>\n<polygon fill=\"#000000\" stroke=\"#000000\" points=\"81.713,-133.4127 79.1739,-123.1267 74.7443,-132.7511 81.713,-133.4127\"/>\n<text text-anchor=\"middle\" x=\"114.1311\" y=\"-144.8\" font-family=\"Times,serif\" font-size=\"14.00\" fill=\"#000000\">rdfs:range</text>\n</g>\n<!-- 12&#45;&gt;13 -->\n<g id=\"edge19\" class=\"edge\">\n<title>12&#45;&gt;13</title>\n<path fill=\"none\" stroke=\"#000000\" d=\"M317.0022,-173.7258C319.0359,-162.8599 323.2791,-149.5683 332.1311,-141 341.6267,-131.8088 369.0268,-123.2884 395.3557,-116.8463\"/>\n<polygon fill=\"#000000\" stroke=\"#000000\" points=\"396.4283,-120.1893 405.3545,-114.482 394.8175,-113.3771 396.4283,-120.1893\"/>\n<text text-anchor=\"middle\" x=\"355.1311\" y=\"-144.8\" font-family=\"Times,serif\" font-size=\"14.00\" fill=\"#000000\">rdf:type</text>\n</g>\n<!-- 12&#45;&gt;17 -->\n<g id=\"edge23\" class=\"edge\">\n<title>12&#45;&gt;17</title>\n<path fill=\"none\" stroke=\"#000000\" d=\"M385.6226,-179.1349C398.403,-177.1518 411.6385,-175.326 424.1311,-174 507.3151,-165.1705 721.7853,-185.3164 800.1311,-156 810.2076,-152.2294 809.2632,-145.2869 819.1311,-141 850.2149,-127.4962 937.8954,-116.554 997.1766,-110.4115\"/>\n<polygon fill=\"#000000\" stroke=\"#000000\" points=\"997.5698,-113.8896 1007.1635,-109.3941 996.8602,-106.9257 997.5698,-113.8896\"/>\n<text text-anchor=\"middle\" x=\"854.1311\" y=\"-144.8\" font-family=\"Times,serif\" font-size=\"14.00\" fill=\"#000000\">rdfs:domain</text>\n</g>\n<!-- 14&#45;&gt;6 -->\n<g id=\"edge9\" class=\"edge\">\n<title>14&#45;&gt;6</title>\n<path fill=\"none\" stroke=\"#000000\" d=\"M1828.5233,-267.8936C1809.4547,-261.9165 1786.9591,-253.5775 1768.1311,-243 1705.6166,-207.8794 1700.2338,-184.3684 1643.1311,-141 1636.6378,-136.0684 1629.5563,-130.9262 1622.7931,-126.1231\"/>\n<polygon fill=\"#000000\" stroke=\"#000000\" points=\"1624.6571,-123.1551 1614.4649,-120.2619 1620.6283,-128.8795 1624.6571,-123.1551\"/>\n<text text-anchor=\"middle\" x=\"1742.1311\" y=\"-188.3\" font-family=\"Times,serif\" font-size=\"14.00\" fill=\"#000000\">rdf:type</text>\n</g>\n<!-- 14&#45;&gt;10 -->\n<g id=\"edge21\" class=\"edge\">\n<title>14&#45;&gt;10</title>\n<path fill=\"none\" stroke=\"#000000\" d=\"M1891.4611,-262.4312C1908.2683,-249.3756 1931.9447,-230.9841 1950.8886,-216.2688\"/>\n<polygon fill=\"#000000\" stroke=\"#000000\" points=\"1953.1999,-218.9053 1958.9501,-210.0067 1948.9057,-213.3772 1953.1999,-218.9053\"/>\n<text text-anchor=\"middle\" x=\"1986.1311\" y=\"-231.8\" font-family=\"Times,serif\" font-size=\"14.00\" fill=\"#000000\">ex:memilkiProduk</text>\n</g>\n<!-- 15 -->\n<g id=\"node16\" class=\"node\">\n<title>15</title>\n<ellipse fill=\"none\" stroke=\"#000000\" cx=\"1328.1311\" cy=\"-105\" rx=\"51.9908\" ry=\"18\"/>\n<text text-anchor=\"middle\" x=\"1328.1311\" y=\"-101.3\" font-family=\"Times,serif\" font-size=\"14.00\" fill=\"#000000\">xsd:anyUri</text>\n</g>\n<!-- 17&#45;&gt;18 -->\n<g id=\"edge1\" class=\"edge\">\n<title>17&#45;&gt;18</title>\n<path fill=\"none\" stroke=\"#000000\" d=\"M1100.4526,-97.6574C1199.193,-81.6604 1433.3235,-43.7286 1538.8864,-26.6262\"/>\n<polygon fill=\"#000000\" stroke=\"#000000\" points=\"1539.6831,-30.0429 1548.9946,-24.9886 1538.5635,-23.133 1539.6831,-30.0429\"/>\n<text text-anchor=\"middle\" x=\"1378.1311\" y=\"-57.8\" font-family=\"Times,serif\" font-size=\"14.00\" fill=\"#000000\">rdf:type</text>\n</g>\n<!-- 19 -->\n<g id=\"node20\" class=\"node\">\n<title>19</title>\n<ellipse fill=\"none\" stroke=\"#000000\" cx=\"1563.1311\" cy=\"-192\" rx=\"72.5877\" ry=\"18\"/>\n<text text-anchor=\"middle\" x=\"1563.1311\" y=\"-188.3\" font-family=\"Times,serif\" font-size=\"14.00\" fill=\"#000000\">ex:memilkiMerk</text>\n</g>\n<!-- 19&#45;&gt;6 -->\n<g id=\"edge10\" class=\"edge\">\n<title>19&#45;&gt;6</title>\n<path fill=\"none\" stroke=\"#000000\" d=\"M1570.556,-173.7963C1572.773,-168.1315 1575.1409,-161.8397 1577.1311,-156 1579.6693,-148.5528 1582.1804,-140.4099 1584.401,-132.8606\"/>\n<polygon fill=\"#000000\" stroke=\"#000000\" points=\"1587.8207,-133.633 1587.2243,-123.055 1581.094,-131.6961 1587.8207,-133.633\"/>\n<text text-anchor=\"middle\" x=\"1610.1311\" y=\"-144.8\" font-family=\"Times,serif\" font-size=\"14.00\" fill=\"#000000\">rdfs:range</text>\n</g>\n<!-- 19&#45;&gt;9 -->\n<g id=\"edge7\" class=\"edge\">\n<title>19&#45;&gt;9</title>\n<path fill=\"none\" stroke=\"#000000\" d=\"M1602.4452,-176.7844C1615.7549,-170.9935 1630.4505,-163.8727 1643.1311,-156 1655.7753,-148.15 1668.6583,-137.9754 1679.3811,-128.7814\"/>\n<polygon fill=\"#000000\" stroke=\"#000000\" points=\"1681.908,-131.2207 1687.1201,-121.9965 1677.2933,-125.9571 1681.908,-131.2207\"/>\n<text text-anchor=\"middle\" x=\"1697.1311\" y=\"-144.8\" font-family=\"Times,serif\" font-size=\"14.00\" fill=\"#000000\">rdfs:domain</text>\n</g>\n<!-- 19&#45;&gt;13 -->\n<g id=\"edge17\" class=\"edge\">\n<title>19&#45;&gt;13</title>\n<path fill=\"none\" stroke=\"#000000\" d=\"M1498.5965,-183.5849C1468.6947,-180.0172 1432.6566,-176.1858 1400.1311,-174 1317.7372,-168.4628 734.8098,-184.0257 657.1311,-156 647.0108,-152.3487 647.9095,-145.4874 638.1311,-141 600.3469,-123.6603 554.4985,-114.6647 517.8976,-110.0019\"/>\n<polygon fill=\"#000000\" stroke=\"#000000\" points=\"518.1787,-106.5106 507.8338,-108.7983 517.3474,-113.4611 518.1787,-106.5106\"/>\n<text text-anchor=\"middle\" x=\"680.1311\" y=\"-144.8\" font-family=\"Times,serif\" font-size=\"14.00\" fill=\"#000000\">rdf:type</text>\n</g>\n<!-- 21 -->\n<g id=\"node22\" class=\"node\">\n<title>21</title>\n<ellipse fill=\"none\" stroke=\"#000000\" cx=\"120.1311\" cy=\"-192\" rx=\"77.1866\" ry=\"18\"/>\n<text text-anchor=\"middle\" x=\"120.1311\" y=\"-188.3\" font-family=\"Times,serif\" font-size=\"14.00\" fill=\"#000000\">ex:memilikiHarga</text>\n</g>\n<!-- 21&#45;&gt;11 -->\n<g id=\"edge16\" class=\"edge\">\n<title>21&#45;&gt;11</title>\n<path fill=\"none\" stroke=\"#000000\" d=\"M60.8256,-180.3901C36.0941,-174.2329 11.4164,-165.889 4.1311,-156 -7.8792,-139.6972 10.095,-127.291 32.025,-118.7986\"/>\n<polygon fill=\"#000000\" stroke=\"#000000\" points=\"33.3396,-122.0459 41.5898,-115.3987 30.9951,-115.4502 33.3396,-122.0459\"/>\n<text text-anchor=\"middle\" x=\"33.1311\" y=\"-144.8\" font-family=\"Times,serif\" font-size=\"14.00\" fill=\"#000000\">rdfs:range</text>\n</g>\n<!-- 21&#45;&gt;13 -->\n<g id=\"edge8\" class=\"edge\">\n<title>21&#45;&gt;13</title>\n<path fill=\"none\" stroke=\"#000000\" d=\"M163.355,-176.9239C200.8269,-163.978 252.2262,-146.5516 273.1311,-141 312.659,-130.5028 357.7902,-121.4833 392.9736,-115.0979\"/>\n<polygon fill=\"#000000\" stroke=\"#000000\" points=\"393.8614,-118.4946 403.087,-113.285 392.6263,-111.6044 393.8614,-118.4946\"/>\n<text text-anchor=\"middle\" x=\"296.1311\" y=\"-144.8\" font-family=\"Times,serif\" font-size=\"14.00\" fill=\"#000000\">rdf:type</text>\n</g>\n<!-- 21&#45;&gt;17 -->\n<g id=\"edge32\" class=\"edge\">\n<title>21&#45;&gt;17</title>\n<path fill=\"none\" stroke=\"#000000\" d=\"M174.4917,-179.163C184.9399,-177.1108 195.8343,-175.2533 206.1311,-174 261.4256,-167.2699 654.8459,-175.2102 707.1311,-156 717.2299,-152.2896 716.1746,-145.0768 726.1311,-141 773.5547,-121.5817 914.6144,-111.7461 995.803,-107.5666\"/>\n<polygon fill=\"#000000\" stroke=\"#000000\" points=\"996.0677,-111.0578 1005.8797,-107.0611 995.7169,-104.0666 996.0677,-111.0578\"/>\n<text text-anchor=\"middle\" x=\"761.1311\" y=\"-144.8\" font-family=\"Times,serif\" font-size=\"14.00\" fill=\"#000000\">rdfs:domain</text>\n</g>\n<!-- 22 -->\n<g id=\"node23\" class=\"node\">\n<title>22</title>\n<ellipse fill=\"none\" stroke=\"#000000\" cx=\"908.1311\" cy=\"-192\" rx=\"64.9885\" ry=\"18\"/>\n<text text-anchor=\"middle\" x=\"908.1311\" y=\"-188.3\" font-family=\"Times,serif\" font-size=\"14.00\" fill=\"#000000\">ex:memilkiUri</text>\n</g>\n<!-- 22&#45;&gt;13 -->\n<g id=\"edge14\" class=\"edge\">\n<title>22&#45;&gt;13</title>\n<path fill=\"none\" stroke=\"#000000\" d=\"M844.684,-188.0667C721.3651,-180.2743 460.7477,-163.0226 454.1311,-156 448.4947,-150.0177 446.8138,-141.6696 446.9611,-133.4575\"/>\n<polygon fill=\"#000000\" stroke=\"#000000\" points=\"450.4628,-133.6128 447.9654,-123.3165 443.4969,-132.9229 450.4628,-133.6128\"/>\n<text text-anchor=\"middle\" x=\"477.1311\" y=\"-144.8\" font-family=\"Times,serif\" font-size=\"14.00\" fill=\"#000000\">rdf:type</text>\n</g>\n<!-- 22&#45;&gt;15 -->\n<g id=\"edge34\" class=\"edge\">\n<title>22&#45;&gt;15</title>\n<path fill=\"none\" stroke=\"#000000\" d=\"M954.4525,-179.339C963.5683,-177.2434 973.1048,-175.325 982.1311,-174 1019.5607,-168.5057 1294.5358,-181.8778 1322.1311,-156 1328.3264,-150.1903 1330.7417,-141.642 1331.3323,-133.1978\"/>\n<polygon fill=\"#000000\" stroke=\"#000000\" points=\"1334.832,-133.1219 1331.2792,-123.1406 1327.8321,-133.1589 1334.832,-133.1219\"/>\n<text text-anchor=\"middle\" x=\"1358.1311\" y=\"-144.8\" font-family=\"Times,serif\" font-size=\"14.00\" fill=\"#000000\">rdfs:range</text>\n</g>\n<!-- 22&#45;&gt;17 -->\n<g id=\"edge25\" class=\"edge\">\n<title>22&#45;&gt;17</title>\n<path fill=\"none\" stroke=\"#000000\" d=\"M945.1676,-177.0532C958.4425,-171.1433 973.2918,-163.878 986.1311,-156 995.3014,-150.3733 996.5412,-147.4781 1005.1311,-141 1011.1786,-136.4393 1017.7062,-131.6471 1023.9855,-127.1006\"/>\n<polygon fill=\"#000000\" stroke=\"#000000\" points=\"1026.2541,-129.7801 1032.326,-121.0977 1022.165,-124.0986 1026.2541,-129.7801\"/>\n<text text-anchor=\"middle\" x=\"1040.1311\" y=\"-144.8\" font-family=\"Times,serif\" font-size=\"14.00\" fill=\"#000000\">rdfs:domain</text>\n</g>\n</g>\n</svg>\n"
          },
          "metadata": {}
        }
      ]
    },
    {
      "cell_type": "markdown",
      "metadata": {
        "id": "89SGqK_ordNc"
      },
      "source": [
        "#### **Instance 2**"
      ]
    },
    {
      "cell_type": "markdown",
      "metadata": {
        "id": "Sb21T8b7rSjk"
      },
      "source": [
        "* beli-smart-tv merupakan Kategori\n",
        "* beli-smart-tv memilikiMerk Toshiba\n",
        "* Toshiba memilikiProduk TOSHIBA_Smart_HD_LED_TV_40\n",
        "* TOSHIBA_Smart_HD_LED_TV_40 a :produk.\n",
        "* TOSHIBA_Smart_HD_LED_TV_40 memilikiUri https://www.lazada.co.id/products/toshiba-smart-hd-led-tv-40.html.\n",
        "* TOSHIBA_Smart_HD_LED_TV_40 memilikiHarga 3788000.\n",
        "* TOSHIBA_Smart_HD_LED_TV_40 memilikiRating 3.\n",
        "* TOSHIBA_Smart_HD_LED_TV_40 memilikiTotalReview 3.\n",
        "* TOSHIBA_Smart_HD_LED_TV_40 memilikiTanggalMasuk 2019-10-02."
      ]
    },
    {
      "cell_type": "code",
      "metadata": {
        "id": "AGFfE9ZwWDod",
        "colab": {
          "base_uri": "https://localhost:8080/",
          "height": 448
        },
        "outputId": "d8e5c014-41d2-4522-ac06-bf9ffa98dda2"
      },
      "source": [
        "%%rdf turtle\n",
        "@prefix rdfs: <http://www.w3.org/2000/01/rdf-schema#> .\n",
        "@prefix rdf: <http://www.w3.org/1999/02/22-rdf-syntax-ns#> .\n",
        "@prefix xsd: <http://www.w3.org/2001/XMLSchema#> .\n",
        "@prefix ex: <http://example.com/> .\n",
        "\n",
        "ex:beli-smart-tv a ex:category.\n",
        "\n",
        "ex:beli-smart-tv ex:memilikiMerk ex:Toshiba .\n",
        "\n",
        "ex:Toshiba ex:memilikiProduk ex:TOSHIBA_Smart_HD_LED_TV_40.\n",
        "ex:Toshiba a ex:merk.\n",
        "\n",
        "ex:TOSHIBA_Smart_HD_LED_TV_40 a ex:produk.\n",
        "ex:TOSHIBA_Smart_HD_LED_TV_40 ex:memilikiUri \"https://www.lazada.co.id/products/toshiba-smart-hd-led-tv-40.html\"^^xsd:anyUri.\n",
        "ex:TOSHIBA_Smart_HD_LED_TV_40 ex:memilikiHarga \"3788000\"^^xsd:integer.\n",
        "ex:TOSHIBA_Smart_HD_LED_TV_40 ex:memilikiRating \"3\"^^xsd:integer.\n",
        "ex:TOSHIBA_Smart_HD_LED_TV_40 ex:memilikiTotalReview \"3\"^^xsd:integer.\n",
        "ex:TOSHIBA_Smart_HD_LED_TV_40 ex:memilikiTanggalMasuk \"2019-10-02\"^^xsd:date."
      ],
      "execution_count": null,
      "outputs": [
        {
          "output_type": "display_data",
          "data": {
            "text/plain": [
              "<graphviz.dot.Digraph at 0x7f81a6191e10>"
            ],
            "image/svg+xml": "<?xml version=\"1.0\" encoding=\"UTF-8\" standalone=\"no\"?>\n<!DOCTYPE svg PUBLIC \"-//W3C//DTD SVG 1.1//EN\"\n \"http://www.w3.org/Graphics/SVG/1.1/DTD/svg11.dtd\">\n<!-- Generated by graphviz version 2.40.1 (20161225.0304)\n -->\n<!-- Title: %3 Pages: 1 -->\n<svg width=\"1142pt\" height=\"305pt\"\n viewBox=\"0.00 0.00 1141.50 305.00\" xmlns=\"http://www.w3.org/2000/svg\" xmlns:xlink=\"http://www.w3.org/1999/xlink\">\n<g id=\"graph0\" class=\"graph\" transform=\"scale(1 1) rotate(0) translate(4 301)\">\n<title>%3</title>\n<polygon fill=\"#ffffff\" stroke=\"transparent\" points=\"-4,4 -4,-301 1137.5,-301 1137.5,4 -4,4\"/>\n<!-- 0 -->\n<g id=\"node1\" class=\"node\">\n<title>0</title>\n<ellipse fill=\"none\" stroke=\"#000000\" cx=\"149.5\" cy=\"-192\" rx=\"51.9908\" ry=\"18\"/>\n<text text-anchor=\"middle\" x=\"149.5\" y=\"-188.3\" font-family=\"Times,serif\" font-size=\"14.00\" fill=\"#000000\">ex:Toshiba</text>\n</g>\n<!-- 2 -->\n<g id=\"node3\" class=\"node\">\n<title>2</title>\n<ellipse fill=\"none\" stroke=\"#000000\" cx=\"115.5\" cy=\"-105\" rx=\"40.8928\" ry=\"18\"/>\n<text text-anchor=\"middle\" x=\"115.5\" y=\"-101.3\" font-family=\"Times,serif\" font-size=\"14.00\" fill=\"#000000\">ex:merk</text>\n</g>\n<!-- 0&#45;&gt;2 -->\n<g id=\"edge5\" class=\"edge\">\n<title>0&#45;&gt;2</title>\n<path fill=\"none\" stroke=\"#000000\" d=\"M142.4552,-173.9735C137.7596,-161.9585 131.4996,-145.9401 126.1942,-132.3646\"/>\n<polygon fill=\"#000000\" stroke=\"#000000\" points=\"129.4357,-131.0434 122.5358,-123.0034 122.9159,-133.5914 129.4357,-131.0434\"/>\n<text text-anchor=\"middle\" x=\"158.5\" y=\"-144.8\" font-family=\"Times,serif\" font-size=\"14.00\" fill=\"#000000\">rdf:type</text>\n</g>\n<!-- 9 -->\n<g id=\"node10\" class=\"node\">\n<title>9</title>\n<ellipse fill=\"none\" stroke=\"#000000\" cx=\"338.5\" cy=\"-105\" rx=\"163.5712\" ry=\"18\"/>\n<text text-anchor=\"middle\" x=\"338.5\" y=\"-101.3\" font-family=\"Times,serif\" font-size=\"14.00\" fill=\"#000000\">ex:TOSHIBA_Smart_HD_LED_TV_40</text>\n</g>\n<!-- 0&#45;&gt;9 -->\n<g id=\"edge10\" class=\"edge\">\n<title>0&#45;&gt;9</title>\n<path fill=\"none\" stroke=\"#000000\" d=\"M181.1344,-177.4382C211.1034,-163.6429 256.5102,-142.7413 290.8589,-126.93\"/>\n<polygon fill=\"#000000\" stroke=\"#000000\" points=\"292.6114,-129.9764 300.2317,-122.6156 289.6844,-123.6177 292.6114,-129.9764\"/>\n<text text-anchor=\"middle\" x=\"310.5\" y=\"-144.8\" font-family=\"Times,serif\" font-size=\"14.00\" fill=\"#000000\">ex:memilikiProduk</text>\n</g>\n<!-- 1 -->\n<g id=\"node2\" class=\"node\">\n<title>1</title>\n<polygon fill=\"none\" stroke=\"#000000\" points=\"113,-36 0,-36 0,0 113,0 113,-36\"/>\n<text text-anchor=\"middle\" x=\"56.5\" y=\"-14.3\" font-family=\"Times,serif\" font-size=\"14.00\" fill=\"#000000\">&quot;3&quot;^^xsd:integer</text>\n</g>\n<!-- 3 -->\n<g id=\"node4\" class=\"node\">\n<title>3</title>\n<ellipse fill=\"none\" stroke=\"#000000\" cx=\"227.5\" cy=\"-18\" rx=\"49.2915\" ry=\"18\"/>\n<text text-anchor=\"middle\" x=\"227.5\" y=\"-14.3\" font-family=\"Times,serif\" font-size=\"14.00\" fill=\"#000000\">ex:produk</text>\n</g>\n<!-- 4 -->\n<g id=\"node5\" class=\"node\">\n<title>4</title>\n<polygon fill=\"none\" stroke=\"#000000\" points=\"452.5,-36 294.5,-36 294.5,0 452.5,0 452.5,-36\"/>\n<text text-anchor=\"middle\" x=\"373.5\" y=\"-14.3\" font-family=\"Times,serif\" font-size=\"14.00\" fill=\"#000000\">&quot;2019&#45;10&#45;02&quot;^^xsd:date</text>\n</g>\n<!-- 5 -->\n<g id=\"node6\" class=\"node\">\n<title>5</title>\n<polygon fill=\"none\" stroke=\"#000000\" points=\"957,-36 470,-36 470,0 957,0 957,-36\"/>\n<text text-anchor=\"middle\" x=\"713.5\" y=\"-14.3\" font-family=\"Times,serif\" font-size=\"14.00\" fill=\"#000000\">&quot;https://www.lazada.co.id/products/toshiba&#45;smart&#45;hd&#45;led&#45;tv&#45;40.html&quot;^^xsd:anyUri</text>\n</g>\n<!-- 6 -->\n<g id=\"node7\" class=\"node\">\n<title>6</title>\n<ellipse fill=\"none\" stroke=\"#000000\" cx=\"273.5\" cy=\"-192\" rx=\"53.8905\" ry=\"18\"/>\n<text text-anchor=\"middle\" x=\"273.5\" y=\"-188.3\" font-family=\"Times,serif\" font-size=\"14.00\" fill=\"#000000\">ex:category</text>\n</g>\n<!-- 7 -->\n<g id=\"node8\" class=\"node\">\n<title>7</title>\n<polygon fill=\"none\" stroke=\"#000000\" points=\"1133.5,-36 975.5,-36 975.5,0 1133.5,0 1133.5,-36\"/>\n<text text-anchor=\"middle\" x=\"1054.5\" y=\"-14.3\" font-family=\"Times,serif\" font-size=\"14.00\" fill=\"#000000\">&quot;3788000&quot;^^xsd:integer</text>\n</g>\n<!-- 8 -->\n<g id=\"node9\" class=\"node\">\n<title>8</title>\n<ellipse fill=\"none\" stroke=\"#000000\" cx=\"211.5\" cy=\"-279\" rx=\"68.7879\" ry=\"18\"/>\n<text text-anchor=\"middle\" x=\"211.5\" y=\"-275.3\" font-family=\"Times,serif\" font-size=\"14.00\" fill=\"#000000\">ex:beli&#45;smart&#45;tv</text>\n</g>\n<!-- 8&#45;&gt;0 -->\n<g id=\"edge1\" class=\"edge\">\n<title>8&#45;&gt;0</title>\n<path fill=\"none\" stroke=\"#000000\" d=\"M173.3717,-263.7839C164.7524,-258.5089 156.6387,-251.6749 151.5,-243 147.5259,-236.2911 146.0476,-228.1682 145.8189,-220.3961\"/>\n<polygon fill=\"#000000\" stroke=\"#000000\" points=\"149.3243,-220.2938 146.1646,-210.1812 142.3283,-220.0571 149.3243,-220.2938\"/>\n<text text-anchor=\"middle\" x=\"201.5\" y=\"-231.8\" font-family=\"Times,serif\" font-size=\"14.00\" fill=\"#000000\">ex:memilikiMerk</text>\n</g>\n<!-- 8&#45;&gt;6 -->\n<g id=\"edge6\" class=\"edge\">\n<title>8&#45;&gt;6</title>\n<path fill=\"none\" stroke=\"#000000\" d=\"M233.9592,-261.8362C240.1969,-256.308 246.5965,-249.8307 251.5,-243 256.6173,-235.8716 260.8763,-227.3668 264.2408,-219.3648\"/>\n<polygon fill=\"#000000\" stroke=\"#000000\" points=\"267.5281,-220.5683 267.8984,-209.9799 261.0059,-218.0263 267.5281,-220.5683\"/>\n<text text-anchor=\"middle\" x=\"282.5\" y=\"-231.8\" font-family=\"Times,serif\" font-size=\"14.00\" fill=\"#000000\">rdf:type</text>\n</g>\n<!-- 9&#45;&gt;1 -->\n<g id=\"edge3\" class=\"edge\">\n<title>9&#45;&gt;1</title>\n<path fill=\"none\" stroke=\"#000000\" d=\"M220.5341,-92.5048C126.8706,-82.5146 11.4081,-70.0132 10.5,-69 2.7763,-60.3822 7.5207,-50.9684 16.3895,-42.6009\"/>\n<polygon fill=\"#000000\" stroke=\"#000000\" points=\"18.7303,-45.2073 24.2269,-36.1497 14.2817,-39.8026 18.7303,-45.2073\"/>\n<text text-anchor=\"middle\" x=\"81.5\" y=\"-57.8\" font-family=\"Times,serif\" font-size=\"14.00\" fill=\"#000000\">ex:memilikiTotalReview</text>\n</g>\n<!-- 9&#45;&gt;1 -->\n<g id=\"edge4\" class=\"edge\">\n<title>9&#45;&gt;1</title>\n<path fill=\"none\" stroke=\"#000000\" d=\"M236.7198,-90.7808C214.5908,-85.5899 191.7568,-78.5441 171.5,-69 161.7673,-64.4144 161.8711,-59.2853 152.5,-54 143.1224,-48.711 132.8172,-43.9117 122.5461,-39.6658\"/>\n<polygon fill=\"#000000\" stroke=\"#000000\" points=\"123.7359,-36.3724 113.1506,-35.924 121.1459,-42.8757 123.7359,-36.3724\"/>\n<text text-anchor=\"middle\" x=\"225\" y=\"-57.8\" font-family=\"Times,serif\" font-size=\"14.00\" fill=\"#000000\">ex:memilikiRating</text>\n</g>\n<!-- 9&#45;&gt;3 -->\n<g id=\"edge9\" class=\"edge\">\n<title>9&#45;&gt;3</title>\n<path fill=\"none\" stroke=\"#000000\" d=\"M320.2287,-86.9923C309.5872,-76.8593 295.702,-64.2278 282.5,-54 275.9664,-48.9383 268.7277,-43.8593 261.7059,-39.178\"/>\n<polygon fill=\"#000000\" stroke=\"#000000\" points=\"263.2837,-36.0283 252.9968,-33.4922 259.4569,-41.8897 263.2837,-36.0283\"/>\n<text text-anchor=\"middle\" x=\"322.5\" y=\"-57.8\" font-family=\"Times,serif\" font-size=\"14.00\" fill=\"#000000\">rdf:type</text>\n</g>\n<!-- 9&#45;&gt;4 -->\n<g id=\"edge2\" class=\"edge\">\n<title>9&#45;&gt;4</title>\n<path fill=\"none\" stroke=\"#000000\" d=\"M345.752,-86.9735C350.5857,-74.9585 357.0298,-58.9401 362.4913,-45.3646\"/>\n<polygon fill=\"#000000\" stroke=\"#000000\" points=\"365.772,-46.5871 366.2573,-36.0034 359.2778,-43.9744 365.772,-46.5871\"/>\n<text text-anchor=\"middle\" x=\"434.5\" y=\"-57.8\" font-family=\"Times,serif\" font-size=\"14.00\" fill=\"#000000\">ex:memilikiTanggalMasuk</text>\n</g>\n<!-- 9&#45;&gt;5 -->\n<g id=\"edge7\" class=\"edge\">\n<title>9&#45;&gt;5</title>\n<path fill=\"none\" stroke=\"#000000\" d=\"M420.1991,-89.296C450.2376,-83.282 484.4834,-76.1438 515.5,-69 555.6557,-59.7513 600.1074,-48.4034 636.7019,-38.762\"/>\n<polygon fill=\"#000000\" stroke=\"#000000\" points=\"638.0317,-42.0308 646.805,-36.0911 636.2425,-35.2633 638.0317,-42.0308\"/>\n<text text-anchor=\"middle\" x=\"619.5\" y=\"-57.8\" font-family=\"Times,serif\" font-size=\"14.00\" fill=\"#000000\">ex:memilikiUri</text>\n</g>\n<!-- 9&#45;&gt;7 -->\n<g id=\"edge8\" class=\"edge\">\n<title>9&#45;&gt;7</title>\n<path fill=\"none\" stroke=\"#000000\" d=\"M469.4698,-94.1784C594.4734,-83.0252 788.2202,-63.5936 965.3787,-36.1026\"/>\n<polygon fill=\"#000000\" stroke=\"#000000\" points=\"966.0687,-39.5374 975.4081,-34.5348 964.9875,-32.6214 966.0687,-39.5374\"/>\n<text text-anchor=\"middle\" x=\"880\" y=\"-57.8\" font-family=\"Times,serif\" font-size=\"14.00\" fill=\"#000000\">ex:memilikiHarga</text>\n</g>\n</g>\n</svg>\n"
          },
          "metadata": {}
        }
      ]
    },
    {
      "cell_type": "markdown",
      "metadata": {
        "id": "ciOSf8_2rh6t"
      },
      "source": [
        "#### **Instance 3**"
      ]
    },
    {
      "cell_type": "markdown",
      "metadata": {
        "id": "jk8CKvparSoz"
      },
      "source": [
        "* beli-smart-tv merupakan Kategori.\n",
        "* beli-smart-tv memilikiMerk Sharp.\n",
        "* Sharp memilikiProduk arp_HD_LED_TV_24.\n",
        "* Sharp_HD_LED_TV_24 a ex:produk.\n",
        "* Sharp_HD_LED_TV_24 memilikiUri https://www.lazada.co.id/products/sharp-hd-led-tv-24-lc-24le175i-hitam-i100004505-s100007387.html.\n",
        "* Sharp_HD_LED_TV_24 memilikiHarga 1275000.\n",
        "* Sharp_HD_LED_TV_24 memilikiRating 3.\n",
        "* Sharp_HD_LED_TV_24 memilikiTotalReview 11.\n",
        "* Sharp_HD_LED_TV_24 memilikiTanggalMasuk 2019-10-02."
      ]
    },
    {
      "cell_type": "code",
      "metadata": {
        "id": "2M7O5z6uWHRk",
        "colab": {
          "base_uri": "https://localhost:8080/",
          "height": 448
        },
        "outputId": "eb80055e-2c7c-4406-cdd4-a6d5ab08783d"
      },
      "source": [
        "%%rdf turtle\n",
        "@prefix rdfs: <http://www.w3.org/2000/01/rdf-schema#> .\n",
        "@prefix rdf: <http://www.w3.org/1999/02/22-rdf-syntax-ns#> .\n",
        "@prefix xsd: <http://www.w3.org/2001/XMLSchema#> .\n",
        "@prefix ex: <http://example.com/> .\n",
        "\n",
        "ex:beli-smart-tv a ex:category.\n",
        "\n",
        "ex:beli-smart-tv ex:memilikiMerk ex:Sharp .\n",
        "\n",
        "ex:Sharp ex:memilikiProduk ex:Sharp_HD_LED_TV_24.\n",
        "ex:Sharp a ex:merk.\n",
        "\n",
        "ex:Sharp_HD_LED_TV_24 a ex:produk.\n",
        "ex:Sharp_HD_LED_TV_24 ex:memilikiUri \"https://www.lazada.co.id/products/sharp-hd-led-tv-24-lc-24le175i-hitam-i100004505-s100007387.html\"^^xsd:anyUri.\n",
        "ex:Sharp_HD_LED_TV_24 ex:memilikiHarga \"1275000\"^^xsd:integer.\n",
        "ex:Sharp_HD_LED_TV_24 ex:memilikiRating \"3\"^^xsd:integer.\n",
        "ex:Sharp_HD_LED_TV_24 ex:memilikiTotalReview \"11\"^^xsd:integer.\n",
        "ex:Sharp_HD_LED_TV_24 ex:memilikiTanggalMasuk \"2019-10-02\"^^xsd:date."
      ],
      "execution_count": null,
      "outputs": [
        {
          "output_type": "display_data",
          "data": {
            "text/plain": [
              "<graphviz.dot.Digraph at 0x7f81a603bed0>"
            ],
            "image/svg+xml": "<?xml version=\"1.0\" encoding=\"UTF-8\" standalone=\"no\"?>\n<!DOCTYPE svg PUBLIC \"-//W3C//DTD SVG 1.1//EN\"\n \"http://www.w3.org/Graphics/SVG/1.1/DTD/svg11.dtd\">\n<!-- Generated by graphviz version 2.40.1 (20161225.0304)\n -->\n<!-- Title: %3 Pages: 1 -->\n<svg width=\"1478pt\" height=\"305pt\"\n viewBox=\"0.00 0.00 1477.50 305.00\" xmlns=\"http://www.w3.org/2000/svg\" xmlns:xlink=\"http://www.w3.org/1999/xlink\">\n<g id=\"graph0\" class=\"graph\" transform=\"scale(1 1) rotate(0) translate(4 301)\">\n<title>%3</title>\n<polygon fill=\"#ffffff\" stroke=\"transparent\" points=\"-4,4 -4,-301 1473.5,-301 1473.5,4 -4,4\"/>\n<!-- 0 -->\n<g id=\"node1\" class=\"node\">\n<title>0</title>\n<polygon fill=\"none\" stroke=\"#000000\" points=\"113,-36 0,-36 0,0 113,0 113,-36\"/>\n<text text-anchor=\"middle\" x=\"56.5\" y=\"-14.3\" font-family=\"Times,serif\" font-size=\"14.00\" fill=\"#000000\">&quot;3&quot;^^xsd:integer</text>\n</g>\n<!-- 1 -->\n<g id=\"node2\" class=\"node\">\n<title>1</title>\n<ellipse fill=\"none\" stroke=\"#000000\" cx=\"795.5\" cy=\"-105\" rx=\"40.8928\" ry=\"18\"/>\n<text text-anchor=\"middle\" x=\"795.5\" y=\"-101.3\" font-family=\"Times,serif\" font-size=\"14.00\" fill=\"#000000\">ex:merk</text>\n</g>\n<!-- 2 -->\n<g id=\"node3\" class=\"node\">\n<title>2</title>\n<polygon fill=\"none\" stroke=\"#000000\" points=\"832,-36 131,-36 131,0 832,0 832,-36\"/>\n<text text-anchor=\"middle\" x=\"481.5\" y=\"-14.3\" font-family=\"Times,serif\" font-size=\"14.00\" fill=\"#000000\">&quot;https://www.lazada.co.id/products/sharp&#45;hd&#45;led&#45;tv&#45;24&#45;lc&#45;24le175i&#45;hitam&#45;i100004505&#45;s100007387.html&quot;^^xsd:anyUri</text>\n</g>\n<!-- 3 -->\n<g id=\"node4\" class=\"node\">\n<title>3</title>\n<ellipse fill=\"none\" stroke=\"#000000\" cx=\"899.5\" cy=\"-18\" rx=\"49.2915\" ry=\"18\"/>\n<text text-anchor=\"middle\" x=\"899.5\" y=\"-14.3\" font-family=\"Times,serif\" font-size=\"14.00\" fill=\"#000000\">ex:produk</text>\n</g>\n<!-- 4 -->\n<g id=\"node5\" class=\"node\">\n<title>4</title>\n<polygon fill=\"none\" stroke=\"#000000\" points=\"1124.5,-36 966.5,-36 966.5,0 1124.5,0 1124.5,-36\"/>\n<text text-anchor=\"middle\" x=\"1045.5\" y=\"-14.3\" font-family=\"Times,serif\" font-size=\"14.00\" fill=\"#000000\">&quot;2019&#45;10&#45;02&quot;^^xsd:date</text>\n</g>\n<!-- 5 -->\n<g id=\"node6\" class=\"node\">\n<title>5</title>\n<polygon fill=\"none\" stroke=\"#000000\" points=\"1300.5,-36 1142.5,-36 1142.5,0 1300.5,0 1300.5,-36\"/>\n<text text-anchor=\"middle\" x=\"1221.5\" y=\"-14.3\" font-family=\"Times,serif\" font-size=\"14.00\" fill=\"#000000\">&quot;1275000&quot;^^xsd:integer</text>\n</g>\n<!-- 6 -->\n<g id=\"node7\" class=\"node\">\n<title>6</title>\n<ellipse fill=\"none\" stroke=\"#000000\" cx=\"740.5\" cy=\"-192\" rx=\"53.8905\" ry=\"18\"/>\n<text text-anchor=\"middle\" x=\"740.5\" y=\"-188.3\" font-family=\"Times,serif\" font-size=\"14.00\" fill=\"#000000\">ex:category</text>\n</g>\n<!-- 7 -->\n<g id=\"node8\" class=\"node\">\n<title>7</title>\n<polygon fill=\"none\" stroke=\"#000000\" points=\"1438,-36 1319,-36 1319,0 1438,0 1438,-36\"/>\n<text text-anchor=\"middle\" x=\"1378.5\" y=\"-14.3\" font-family=\"Times,serif\" font-size=\"14.00\" fill=\"#000000\">&quot;11&quot;^^xsd:integer</text>\n</g>\n<!-- 8 -->\n<g id=\"node9\" class=\"node\">\n<title>8</title>\n<ellipse fill=\"none\" stroke=\"#000000\" cx=\"972.5\" cy=\"-105\" rx=\"118.0794\" ry=\"18\"/>\n<text text-anchor=\"middle\" x=\"972.5\" y=\"-101.3\" font-family=\"Times,serif\" font-size=\"14.00\" fill=\"#000000\">ex:Sharp_HD_LED_TV_24</text>\n</g>\n<!-- 8&#45;&gt;0 -->\n<g id=\"edge10\" class=\"edge\">\n<title>8&#45;&gt;0</title>\n<path fill=\"none\" stroke=\"#000000\" d=\"M888.5782,-92.2463C874.2282,-90.3119 859.4519,-88.4735 845.5,-87 527.9984,-53.4672 441.1761,-89.9459 123.0325,-36.084\"/>\n<polygon fill=\"#000000\" stroke=\"#000000\" points=\"123.5163,-32.616 113.0695,-34.3807 122.3366,-39.5159 123.5163,-32.616\"/>\n<text text-anchor=\"middle\" x=\"512\" y=\"-57.8\" font-family=\"Times,serif\" font-size=\"14.00\" fill=\"#000000\">ex:memilikiRating</text>\n</g>\n<!-- 8&#45;&gt;2 -->\n<g id=\"edge2\" class=\"edge\">\n<title>8&#45;&gt;2</title>\n<path fill=\"none\" stroke=\"#000000\" d=\"M895.2411,-91.3105C814.0739,-76.9286 685.6316,-54.17 593.3846,-37.8248\"/>\n<polygon fill=\"#000000\" stroke=\"#000000\" points=\"593.9065,-34.3628 583.4492,-36.0643 592.6851,-41.2554 593.9065,-34.3628\"/>\n<text text-anchor=\"middle\" x=\"800.5\" y=\"-57.8\" font-family=\"Times,serif\" font-size=\"14.00\" fill=\"#000000\">ex:memilikiUri</text>\n</g>\n<!-- 8&#45;&gt;3 -->\n<g id=\"edge1\" class=\"edge\">\n<title>8&#45;&gt;3</title>\n<path fill=\"none\" stroke=\"#000000\" d=\"M957.3744,-86.9735C946.7616,-74.3254 932.4264,-57.2411 920.6785,-43.2401\"/>\n<polygon fill=\"#000000\" stroke=\"#000000\" points=\"923.2171,-40.8205 914.1081,-35.4097 917.8548,-45.32 923.2171,-40.8205\"/>\n<text text-anchor=\"middle\" x=\"962.5\" y=\"-57.8\" font-family=\"Times,serif\" font-size=\"14.00\" fill=\"#000000\">rdf:type</text>\n</g>\n<!-- 8&#45;&gt;4 -->\n<g id=\"edge3\" class=\"edge\">\n<title>8&#45;&gt;4</title>\n<path fill=\"none\" stroke=\"#000000\" d=\"M987.6256,-86.9735C998.0988,-74.4919 1012.197,-57.6899 1023.8565,-43.7944\"/>\n<polygon fill=\"#000000\" stroke=\"#000000\" points=\"1026.6471,-45.9136 1030.3937,-36.0034 1021.2847,-41.4142 1026.6471,-45.9136\"/>\n<text text-anchor=\"middle\" x=\"1089.5\" y=\"-57.8\" font-family=\"Times,serif\" font-size=\"14.00\" fill=\"#000000\">ex:memilikiTanggalMasuk</text>\n</g>\n<!-- 8&#45;&gt;5 -->\n<g id=\"edge7\" class=\"edge\">\n<title>8&#45;&gt;5</title>\n<path fill=\"none\" stroke=\"#000000\" d=\"M1064.5198,-93.6309C1106.8922,-87.3183 1151.8539,-78.7697 1170.5,-69 1182.198,-62.8708 1192.9136,-53.1355 1201.4706,-43.8057\"/>\n<polygon fill=\"#000000\" stroke=\"#000000\" points=\"1204.205,-45.9952 1208.1251,-36.1522 1198.9225,-41.4022 1204.205,-45.9952\"/>\n<text text-anchor=\"middle\" x=\"1242\" y=\"-57.8\" font-family=\"Times,serif\" font-size=\"14.00\" fill=\"#000000\">ex:memilikiHarga</text>\n</g>\n<!-- 8&#45;&gt;7 -->\n<g id=\"edge4\" class=\"edge\">\n<title>8&#45;&gt;7</title>\n<path fill=\"none\" stroke=\"#000000\" d=\"M1082.125,-98.1293C1160.5645,-92.2203 1258.8468,-82.5046 1297.5,-69 1315.1685,-62.827 1332.9682,-52.2146 1347.3639,-42.2636\"/>\n<polygon fill=\"#000000\" stroke=\"#000000\" points=\"1349.7523,-44.8589 1355.8559,-36.1989 1345.6839,-39.1625 1349.7523,-44.8589\"/>\n<text text-anchor=\"middle\" x=\"1398.5\" y=\"-57.8\" font-family=\"Times,serif\" font-size=\"14.00\" fill=\"#000000\">ex:memilikiTotalReview</text>\n</g>\n<!-- 9 -->\n<g id=\"node10\" class=\"node\">\n<title>9</title>\n<ellipse fill=\"none\" stroke=\"#000000\" cx=\"774.5\" cy=\"-279\" rx=\"68.7879\" ry=\"18\"/>\n<text text-anchor=\"middle\" x=\"774.5\" y=\"-275.3\" font-family=\"Times,serif\" font-size=\"14.00\" fill=\"#000000\">ex:beli&#45;smart&#45;tv</text>\n</g>\n<!-- 9&#45;&gt;6 -->\n<g id=\"edge8\" class=\"edge\">\n<title>9&#45;&gt;6</title>\n<path fill=\"none\" stroke=\"#000000\" d=\"M767.4552,-260.9735C762.7596,-248.9585 756.4996,-232.9401 751.1942,-219.3646\"/>\n<polygon fill=\"#000000\" stroke=\"#000000\" points=\"754.4357,-218.0434 747.5358,-210.0034 747.9159,-220.5914 754.4357,-218.0434\"/>\n<text text-anchor=\"middle\" x=\"783.5\" y=\"-231.8\" font-family=\"Times,serif\" font-size=\"14.00\" fill=\"#000000\">rdf:type</text>\n</g>\n<!-- 10 -->\n<g id=\"node11\" class=\"node\">\n<title>10</title>\n<ellipse fill=\"none\" stroke=\"#000000\" cx=\"856.5\" cy=\"-192\" rx=\"44.393\" ry=\"18\"/>\n<text text-anchor=\"middle\" x=\"856.5\" y=\"-188.3\" font-family=\"Times,serif\" font-size=\"14.00\" fill=\"#000000\">ex:Sharp</text>\n</g>\n<!-- 9&#45;&gt;10 -->\n<g id=\"edge6\" class=\"edge\">\n<title>9&#45;&gt;10</title>\n<path fill=\"none\" stroke=\"#000000\" d=\"M792.2615,-261.6006C798.1331,-255.7531 804.6565,-249.1525 810.5,-243 818.4651,-234.6138 826.9984,-225.2607 834.5257,-216.8774\"/>\n<polygon fill=\"#000000\" stroke=\"#000000\" points=\"837.3317,-218.9899 841.383,-209.2002 832.111,-214.3267 837.3317,-218.9899\"/>\n<text text-anchor=\"middle\" x=\"872.5\" y=\"-231.8\" font-family=\"Times,serif\" font-size=\"14.00\" fill=\"#000000\">ex:memilikiMerk</text>\n</g>\n<!-- 10&#45;&gt;1 -->\n<g id=\"edge9\" class=\"edge\">\n<title>10&#45;&gt;1</title>\n<path fill=\"none\" stroke=\"#000000\" d=\"M844.1557,-174.3943C835.3338,-161.8122 823.3258,-144.6859 813.4464,-130.5957\"/>\n<polygon fill=\"#000000\" stroke=\"#000000\" points=\"816.2245,-128.4612 807.6177,-122.2827 810.4929,-132.4799 816.2245,-128.4612\"/>\n<text text-anchor=\"middle\" x=\"852.5\" y=\"-144.8\" font-family=\"Times,serif\" font-size=\"14.00\" fill=\"#000000\">rdf:type</text>\n</g>\n<!-- 10&#45;&gt;8 -->\n<g id=\"edge5\" class=\"edge\">\n<title>10&#45;&gt;8</title>\n<path fill=\"none\" stroke=\"#000000\" d=\"M877.7762,-176.0429C895.4033,-162.8225 920.7181,-143.8364 940.7438,-128.8172\"/>\n<polygon fill=\"#000000\" stroke=\"#000000\" points=\"943.0645,-131.4516 948.9645,-122.6516 938.8645,-125.8516 943.0645,-131.4516\"/>\n<text text-anchor=\"middle\" x=\"976.5\" y=\"-144.8\" font-family=\"Times,serif\" font-size=\"14.00\" fill=\"#000000\">ex:memilikiProduk</text>\n</g>\n</g>\n</svg>\n"
          },
          "metadata": {}
        }
      ]
    },
    {
      "cell_type": "markdown",
      "metadata": {
        "id": "9KIfuZCorFn8"
      },
      "source": [
        "\n",
        "\n",
        "---\n",
        "\n",
        "\n",
        "## **Vocabulary Perpanjangan dari Vocabulary Populer**"
      ]
    },
    {
      "cell_type": "markdown",
      "metadata": {
        "id": "8jT3jqRw4tZV"
      },
      "source": [
        "### **Namespaces**"
      ]
    },
    {
      "cell_type": "markdown",
      "metadata": {
        "id": "OOh_wHq1BSmT"
      },
      "source": [
        "* @prefix rdfs: <http://www.w3.org/2000/01/rdf-schema#> .\n",
        "* @prefix rdf: <http://www.w3.org/1999/02/22-rdf-syntax-ns#> .\n",
        "* @prefix xsd: <http://www.w3.org/2001/XMLSchema#> .\n",
        "* @prefix ex: <http://example.com/> .\n",
        "* @prefix gr: <http://purl.org/goodrelations/v1#> .\n",
        "* @prefix foaf: <http://xmlns.com/foaf/0.1/> .\n",
        "* @prefix s: <http://schema.org/> .\n"
      ]
    },
    {
      "cell_type": "markdown",
      "metadata": {
        "id": "mN9x3YTy4wQb"
      },
      "source": [
        "### **Classes**"
      ]
    },
    {
      "cell_type": "markdown",
      "metadata": {
        "id": "LyPHsGNZwPZe"
      },
      "source": [
        "* **gr:SomeItems**. Contoh: beli-smart-tv. Propertinya adalah:\n",
        " * **gr:category [xsd:string]**: beli-smart-tv category \"beli-smart-tv\".\n",
        " * **gr:hasBrand [gr:Brand]**: beli-smart-tv hasBrand Toshiba.\n",
        "\n",
        "<br>\n",
        "\n",
        "* **gr:Brand**. Contoh: Toshiba. Propertinya adalah:\n",
        " * **gr:name [xsd:string]**: Toshiba name \"Toshiba\".\n",
        "\n",
        "<br>\n",
        "\n",
        "* **gr:UnitPriceSpecification**. Contoh: Harga. Propertinya adalah:\n",
        " * **gr:hasCurrencyValue [xsd:currency]**.\n",
        "\n",
        "<br>\n",
        "\n",
        "* **gr:ProductOrServiceModel**. Contoh: TOSHIBA_Smart_HD_LED_TV_32. Propertinya adalah: \n",
        " * **gr:name [xsd:string]**: TOSHIBA_Smart_HD_LED_TV_32 name \"TOSHIBA Smart HD LED TV 32\".\n",
        " * **gr:hasBrand [xsd:string]**: TOSHIBA_Smart_HD_LED_TV_32 hasBrand Toshiba.\n",
        " * **gr:hasPriceSpecification [gr:UnitPriceSpecification]**: TOSHIBA_Smart_HD_LED_TV_32 hasPriceSpecification Harga.\n",
        " * **s:aggregateRating [s:AggregateRating; s:ratingValue; s:reviewCount]**: TOSHIBA_Smart_HD_LED_TV_32 AggregateRating; TOSHIBA_Smart_HD_LED_TV_32 ratingValue 4; TOSHIBA_Smart_HD_LED_TV_32 reviewCount 8.\n",
        " * **s:dateCreated [xsd:date]**: TOSHIBA_Smart_HD_LED_TV_32 dateCreated 2019-10-02."
      ]
    },
    {
      "cell_type": "markdown",
      "metadata": {
        "id": "ZXQdQFx74y87"
      },
      "source": [
        "### **Instances**"
      ]
    },
    {
      "cell_type": "markdown",
      "metadata": {
        "id": "UJ1nEX-D-P4t"
      },
      "source": [
        "Instance 1"
      ]
    },
    {
      "cell_type": "code",
      "metadata": {
        "id": "Vek0ZSFnBdj9",
        "colab": {
          "base_uri": "https://localhost:8080/",
          "height": 332
        },
        "outputId": "f086d15c-ac67-441e-8e1e-63e39fb66521"
      },
      "source": [
        "%%rdf turtle\n",
        "@prefix rdfs: <http://www.w3.org/2000/01/rdf-schema#> .\n",
        "@prefix rdf: <http://www.w3.org/1999/02/22-rdf-syntax-ns#> .\n",
        "@prefix xsd: <http://www.w3.org/2001/XMLSchema#> .\n",
        "@prefix ex: <http://example.com/> .\n",
        "@prefix gr: <http://purl.org/goodrelations/v1#> .\n",
        "@prefix foaf: <http://xmlns.com/foaf/0.1/> .\n",
        "@prefix s: <http://schema.org/> .\n",
        "\n",
        "ex:beli-smart-tv a gr:SomeItems;\n",
        "  gr:category \"beli-smart-tv\"^^xsd:string;\n",
        "  gr:hasBrand ex:Toshiba .\n",
        "\n",
        "ex:Toshiba a gr:Brand;\n",
        "    gr:name \"Toshiba\"^^xsd:string.\n",
        "\n",
        "ex:Harga a gr:UnitPriceSpecification;\n",
        "  gr:hasCurrencyValue \"2499000\"^^xsd:currency.\n",
        "\n",
        "ex:TOSHIBA_Smart_HD_LED_TV_32 a gr:ProductOrServiceModel;\n",
        "  gr:name \"TOSHIBA Smart HD LED TV 32\"^^xsd:string;\n",
        "  gr:hasBrand ex:Toshiba;\n",
        "  gr:hasPriceSpecification ex:Harga;\n",
        "  foaf:page <https://www.lazada.co.id/products/toshiba-smart-hd-led-tv-32.html>;\n",
        "  s:aggregateRating [ a s:AggregateRating;\n",
        "                         s:ratingValue \"4\"^^xsd:integer;\n",
        "                         s:reviewCount \"8\"^^xsd:integer;\n",
        "                          ];\n",
        "  s:dateCreated \"2019-10-02\"^^xsd:date.\n"
      ],
      "execution_count": null,
      "outputs": [
        {
          "output_type": "display_data",
          "data": {
            "text/plain": [
              "<graphviz.dot.Digraph at 0x7f81a603b150>"
            ],
            "image/svg+xml": "<?xml version=\"1.0\" encoding=\"UTF-8\" standalone=\"no\"?>\n<!DOCTYPE svg PUBLIC \"-//W3C//DTD SVG 1.1//EN\"\n \"http://www.w3.org/Graphics/SVG/1.1/DTD/svg11.dtd\">\n<!-- Generated by graphviz version 2.40.1 (20161225.0304)\n -->\n<!-- Title: %3 Pages: 1 -->\n<svg width=\"1969pt\" height=\"218pt\"\n viewBox=\"0.00 0.00 1969.39 218.00\" xmlns=\"http://www.w3.org/2000/svg\" xmlns:xlink=\"http://www.w3.org/1999/xlink\">\n<g id=\"graph0\" class=\"graph\" transform=\"scale(1 1) rotate(0) translate(4 214)\">\n<title>%3</title>\n<polygon fill=\"#ffffff\" stroke=\"transparent\" points=\"-4,4 -4,-214 1965.3945,-214 1965.3945,4 -4,4\"/>\n<!-- 0 -->\n<g id=\"node1\" class=\"node\">\n<title>0</title>\n<ellipse fill=\"none\" stroke=\"#000000\" cx=\"291\" cy=\"-18\" rx=\"104.7816\" ry=\"18\"/>\n<text text-anchor=\"middle\" x=\"291\" y=\"-14.3\" font-family=\"Times,serif\" font-size=\"14.00\" fill=\"#000000\">gr:UnitPriceSpecification</text>\n</g>\n<!-- 1 -->\n<g id=\"node2\" class=\"node\">\n<title>1</title>\n<ellipse fill=\"none\" stroke=\"#000000\" cx=\"1579\" cy=\"-105\" rx=\"51.9908\" ry=\"18\"/>\n<text text-anchor=\"middle\" x=\"1579\" y=\"-101.3\" font-family=\"Times,serif\" font-size=\"14.00\" fill=\"#000000\">ex:Toshiba</text>\n</g>\n<!-- 5 -->\n<g id=\"node6\" class=\"node\">\n<title>5</title>\n<ellipse fill=\"none\" stroke=\"#000000\" cx=\"1646\" cy=\"-18\" rx=\"44.393\" ry=\"18\"/>\n<text text-anchor=\"middle\" x=\"1646\" y=\"-14.3\" font-family=\"Times,serif\" font-size=\"14.00\" fill=\"#000000\">gr:Brand</text>\n</g>\n<!-- 1&#45;&gt;5 -->\n<g id=\"edge11\" class=\"edge\">\n<title>1&#45;&gt;5</title>\n<path fill=\"none\" stroke=\"#000000\" d=\"M1592.5584,-87.3943C1602.2481,-74.8122 1615.4373,-57.6859 1626.2884,-43.5957\"/>\n<polygon fill=\"#000000\" stroke=\"#000000\" points=\"1629.3618,-45.3411 1632.6904,-35.2827 1623.8158,-41.07 1629.3618,-45.3411\"/>\n<text text-anchor=\"middle\" x=\"1639\" y=\"-57.8\" font-family=\"Times,serif\" font-size=\"14.00\" fill=\"#000000\">rdf:type</text>\n</g>\n<!-- 14 -->\n<g id=\"node15\" class=\"node\">\n<title>14</title>\n<polygon fill=\"none\" stroke=\"#000000\" points=\"1584,-36 1440,-36 1440,0 1584,0 1584,-36\"/>\n<text text-anchor=\"middle\" x=\"1512\" y=\"-14.3\" font-family=\"Times,serif\" font-size=\"14.00\" fill=\"#000000\">&quot;Toshiba&quot;^^xsd:string</text>\n</g>\n<!-- 1&#45;&gt;14 -->\n<g id=\"edge8\" class=\"edge\">\n<title>1&#45;&gt;14</title>\n<path fill=\"none\" stroke=\"#000000\" d=\"M1565.4416,-87.3943C1555.9419,-75.0589 1543.0786,-58.3558 1532.3526,-44.428\"/>\n<polygon fill=\"#000000\" stroke=\"#000000\" points=\"1534.8741,-41.9658 1525.9995,-36.1785 1529.328,-46.2369 1534.8741,-41.9658\"/>\n<text text-anchor=\"middle\" x=\"1572.5\" y=\"-57.8\" font-family=\"Times,serif\" font-size=\"14.00\" fill=\"#000000\">gr:name</text>\n</g>\n<!-- 2 -->\n<g id=\"node3\" class=\"node\">\n<title>2</title>\n<ellipse fill=\"none\" stroke=\"#000000\" cx=\"936\" cy=\"-105\" rx=\"258.8542\" ry=\"18\"/>\n<text text-anchor=\"start\" x=\"745\" y=\"-101.3\" font-family=\"Times,serif\" font-size=\"14.00\" fill=\"#000000\">https://www.lazada.co.id/products/toshiba&#45;smart&#45;hd&#45;led&#45;tv&#45;32.html</text>\n</g>\n<!-- 3 -->\n<g id=\"node4\" class=\"node\">\n<title>3</title>\n<polygon fill=\"none\" stroke=\"#000000\" points=\"168,-36 0,-36 0,0 168,0 168,-36\"/>\n<text text-anchor=\"middle\" x=\"84\" y=\"-14.3\" font-family=\"Times,serif\" font-size=\"14.00\" fill=\"#000000\">&quot;2499000&quot;^^xsd:currency</text>\n</g>\n<!-- 4 -->\n<g id=\"node5\" class=\"node\">\n<title>4</title>\n<polygon fill=\"none\" stroke=\"#000000\" points=\"704.5,-36 591.5,-36 591.5,0 704.5,0 704.5,-36\"/>\n<text text-anchor=\"middle\" x=\"648\" y=\"-14.3\" font-family=\"Times,serif\" font-size=\"14.00\" fill=\"#000000\">&quot;8&quot;^^xsd:integer</text>\n</g>\n<!-- 6 -->\n<g id=\"node7\" class=\"node\">\n<title>6</title>\n<polygon fill=\"none\" stroke=\"#000000\" points=\"835.5,-36 722.5,-36 722.5,0 835.5,0 835.5,-36\"/>\n<text text-anchor=\"middle\" x=\"779\" y=\"-14.3\" font-family=\"Times,serif\" font-size=\"14.00\" fill=\"#000000\">&quot;4&quot;^^xsd:integer</text>\n</g>\n<!-- 7 -->\n<g id=\"node8\" class=\"node\">\n<title>7</title>\n<polygon fill=\"none\" stroke=\"#000000\" points=\"1509.5,-123 1212.5,-123 1212.5,-87 1509.5,-87 1509.5,-123\"/>\n<text text-anchor=\"middle\" x=\"1361\" y=\"-101.3\" font-family=\"Times,serif\" font-size=\"14.00\" fill=\"#000000\">&quot;TOSHIBA Smart HD LED TV 32&quot;^^xsd:string</text>\n</g>\n<!-- 8 -->\n<g id=\"node9\" class=\"node\">\n<title>8</title>\n<polygon fill=\"none\" stroke=\"#000000\" points=\"229,-123 71,-123 71,-87 229,-87 229,-123\"/>\n<text text-anchor=\"middle\" x=\"150\" y=\"-101.3\" font-family=\"Times,serif\" font-size=\"14.00\" fill=\"#000000\">&quot;2019&#45;10&#45;02&quot;^^xsd:date</text>\n</g>\n<!-- 9 -->\n<g id=\"node10\" class=\"node\">\n<title>9</title>\n<polygon fill=\"none\" stroke=\"#000000\" points=\"1819,-123 1649,-123 1649,-87 1819,-87 1819,-123\"/>\n<text text-anchor=\"middle\" x=\"1734\" y=\"-101.3\" font-family=\"Times,serif\" font-size=\"14.00\" fill=\"#000000\">&quot;beli&#45;smart&#45;tv&quot;^^xsd:string</text>\n</g>\n<!-- 10 -->\n<g id=\"node11\" class=\"node\">\n<title>10</title>\n<ellipse fill=\"none\" stroke=\"#000000\" cx=\"494\" cy=\"-18\" rx=\"79.8859\" ry=\"18\"/>\n<text text-anchor=\"middle\" x=\"494\" y=\"-14.3\" font-family=\"Times,serif\" font-size=\"14.00\" fill=\"#000000\">s:AggregateRating</text>\n</g>\n<!-- 11 -->\n<g id=\"node12\" class=\"node\">\n<title>11</title>\n<ellipse fill=\"none\" stroke=\"#000000\" cx=\"291\" cy=\"-105\" rx=\"44.393\" ry=\"18\"/>\n<text text-anchor=\"middle\" x=\"291\" y=\"-101.3\" font-family=\"Times,serif\" font-size=\"14.00\" fill=\"#000000\">ex:Harga</text>\n</g>\n<!-- 11&#45;&gt;0 -->\n<g id=\"edge5\" class=\"edge\">\n<title>11&#45;&gt;0</title>\n<path fill=\"none\" stroke=\"#000000\" d=\"M291,-86.9735C291,-75.1918 291,-59.5607 291,-46.1581\"/>\n<polygon fill=\"#000000\" stroke=\"#000000\" points=\"294.5001,-46.0033 291,-36.0034 287.5001,-46.0034 294.5001,-46.0033\"/>\n<text text-anchor=\"middle\" x=\"314\" y=\"-57.8\" font-family=\"Times,serif\" font-size=\"14.00\" fill=\"#000000\">rdf:type</text>\n</g>\n<!-- 11&#45;&gt;3 -->\n<g id=\"edge15\" class=\"edge\">\n<title>11&#45;&gt;3</title>\n<path fill=\"none\" stroke=\"#000000\" d=\"M257.4882,-93.1535C251.0502,-91.0098 244.3392,-88.8654 238,-87 206.3568,-77.6884 196.3722,-81.8659 166,-69 149.1254,-61.8518 131.7107,-51.5093 117.2938,-42.0038\"/>\n<polygon fill=\"#000000\" stroke=\"#000000\" points=\"118.9835,-38.9217 108.7363,-36.2295 115.068,-44.7242 118.9835,-38.9217\"/>\n<text text-anchor=\"middle\" x=\"226.5\" y=\"-57.8\" font-family=\"Times,serif\" font-size=\"14.00\" fill=\"#000000\">gr:hasCurrencyValue</text>\n</g>\n<!-- 12 -->\n<g id=\"node13\" class=\"node\">\n<title>12</title>\n<ellipse fill=\"none\" stroke=\"#000000\" cx=\"627\" cy=\"-192\" rx=\"163.5712\" ry=\"18\"/>\n<text text-anchor=\"middle\" x=\"627\" y=\"-188.3\" font-family=\"Times,serif\" font-size=\"14.00\" fill=\"#000000\">ex:TOSHIBA_Smart_HD_LED_TV_32</text>\n</g>\n<!-- 12&#45;&gt;1 -->\n<g id=\"edge13\" class=\"edge\">\n<title>12&#45;&gt;1</title>\n<path fill=\"none\" stroke=\"#000000\" d=\"M775.794,-184.3616C991.5895,-172.6218 1380.7179,-148.782 1519,-123 1523.1495,-122.2264 1527.4199,-121.2735 1531.6792,-120.2137\"/>\n<polygon fill=\"#000000\" stroke=\"#000000\" points=\"1532.7777,-123.543 1541.5353,-117.5803 1530.9707,-116.7803 1532.7777,-123.543\"/>\n<text text-anchor=\"middle\" x=\"1406\" y=\"-144.8\" font-family=\"Times,serif\" font-size=\"14.00\" fill=\"#000000\">gr:hasBrand</text>\n</g>\n<!-- 12&#45;&gt;2 -->\n<g id=\"edge9\" class=\"edge\">\n<title>12&#45;&gt;2</title>\n<path fill=\"none\" stroke=\"#000000\" d=\"M686.5783,-175.2255C737.1811,-160.9781 809.9642,-140.4858 863.8566,-125.3122\"/>\n<polygon fill=\"#000000\" stroke=\"#000000\" points=\"865.0129,-128.6228 873.69,-122.5436 863.1157,-121.8848 865.0129,-128.6228\"/>\n<text text-anchor=\"middle\" x=\"827\" y=\"-144.8\" font-family=\"Times,serif\" font-size=\"14.00\" fill=\"#000000\">foaf:page</text>\n</g>\n<!-- 12&#45;&gt;7 -->\n<g id=\"edge10\" class=\"edge\">\n<title>12&#45;&gt;7</title>\n<path fill=\"none\" stroke=\"#000000\" d=\"M738.4788,-178.7866C862.0425,-164.1407 1062.3234,-140.4017 1202.244,-123.8171\"/>\n<polygon fill=\"#000000\" stroke=\"#000000\" points=\"1202.6936,-127.2884 1212.212,-122.6356 1201.8696,-120.3371 1202.6936,-127.2884\"/>\n<text text-anchor=\"middle\" x=\"1060.5\" y=\"-144.8\" font-family=\"Times,serif\" font-size=\"14.00\" fill=\"#000000\">gr:name</text>\n</g>\n<!-- 12&#45;&gt;8 -->\n<g id=\"edge4\" class=\"edge\">\n<title>12&#45;&gt;8</title>\n<path fill=\"none\" stroke=\"#000000\" d=\"M492.1078,-181.7616C412.3072,-174.9701 319.3561,-165.5734 280,-156 251.8207,-149.1453 221.5917,-137.5612 197.3813,-127.1642\"/>\n<polygon fill=\"#000000\" stroke=\"#000000\" points=\"198.6419,-123.8956 188.077,-123.1004 195.8401,-130.3104 198.6419,-123.8956\"/>\n<text text-anchor=\"middle\" x=\"318\" y=\"-144.8\" font-family=\"Times,serif\" font-size=\"14.00\" fill=\"#000000\">s:dateCreated</text>\n</g>\n<!-- 12&#45;&gt;11 -->\n<g id=\"edge1\" class=\"edge\">\n<title>12&#45;&gt;11</title>\n<path fill=\"none\" stroke=\"#000000\" d=\"M504.4006,-180.0227C468.62,-174.6469 429.7971,-166.9524 395,-156 370.6577,-148.3382 344.8929,-135.7402 325.0976,-124.9827\"/>\n<polygon fill=\"#000000\" stroke=\"#000000\" points=\"326.6146,-121.8219 316.1712,-120.037 323.2221,-127.9449 326.6146,-121.8219\"/>\n<text text-anchor=\"middle\" x=\"464\" y=\"-144.8\" font-family=\"Times,serif\" font-size=\"14.00\" fill=\"#000000\">gr:hasPriceSpecification</text>\n</g>\n<!-- 13 -->\n<g id=\"node14\" class=\"node\">\n<title>13</title>\n<ellipse fill=\"none\" stroke=\"#000000\" cx=\"465\" cy=\"-105\" rx=\"111.5806\" ry=\"18\"/>\n<text text-anchor=\"middle\" x=\"465\" y=\"-101.3\" font-family=\"Times,serif\" font-size=\"14.00\" fill=\"#000000\">gr:ProductOrServiceModel</text>\n</g>\n<!-- 12&#45;&gt;13 -->\n<g id=\"edge12\" class=\"edge\">\n<title>12&#45;&gt;13</title>\n<path fill=\"none\" stroke=\"#000000\" d=\"M593.826,-174.1843C568.4599,-160.5618 533.3447,-141.7037 506.1818,-127.1162\"/>\n<polygon fill=\"#000000\" stroke=\"#000000\" points=\"507.7664,-123.9944 497.3005,-122.3465 504.4545,-130.1613 507.7664,-123.9944\"/>\n<text text-anchor=\"middle\" x=\"579\" y=\"-144.8\" font-family=\"Times,serif\" font-size=\"14.00\" fill=\"#000000\">rdf:type</text>\n</g>\n<!-- 16 -->\n<g id=\"node17\" class=\"node\">\n<title>16</title>\n<ellipse fill=\"none\" stroke=\"#000000\" cx=\"627\" cy=\"-105\" rx=\"32.4942\" ry=\"18\"/>\n<text text-anchor=\"middle\" x=\"627\" y=\"-101.3\" font-family=\"Times,serif\" font-size=\"14.00\" fill=\"#000000\">_:bn0</text>\n</g>\n<!-- 12&#45;&gt;16 -->\n<g id=\"edge14\" class=\"edge\">\n<title>12&#45;&gt;16</title>\n<path fill=\"none\" stroke=\"#000000\" d=\"M627,-173.9735C627,-162.1918 627,-146.5607 627,-133.1581\"/>\n<polygon fill=\"#000000\" stroke=\"#000000\" points=\"630.5001,-133.0033 627,-123.0034 623.5001,-133.0034 630.5001,-133.0033\"/>\n<text text-anchor=\"middle\" x=\"678.5\" y=\"-144.8\" font-family=\"Times,serif\" font-size=\"14.00\" fill=\"#000000\">s:aggregateRating</text>\n</g>\n<!-- 15 -->\n<g id=\"node16\" class=\"node\">\n<title>15</title>\n<ellipse fill=\"none\" stroke=\"#000000\" cx=\"1899\" cy=\"-105\" rx=\"62.2891\" ry=\"18\"/>\n<text text-anchor=\"middle\" x=\"1899\" y=\"-101.3\" font-family=\"Times,serif\" font-size=\"14.00\" fill=\"#000000\">gr:SomeItems</text>\n</g>\n<!-- 16&#45;&gt;4 -->\n<g id=\"edge16\" class=\"edge\">\n<title>16&#45;&gt;4</title>\n<path fill=\"none\" stroke=\"#000000\" d=\"M631.3512,-86.9735C634.2232,-75.0751 638.0429,-59.2508 641.2992,-45.7606\"/>\n<polygon fill=\"#000000\" stroke=\"#000000\" points=\"644.7102,-46.5455 643.6544,-36.0034 637.9056,-44.9029 644.7102,-46.5455\"/>\n<text text-anchor=\"middle\" x=\"681\" y=\"-57.8\" font-family=\"Times,serif\" font-size=\"14.00\" fill=\"#000000\">s:reviewCount</text>\n</g>\n<!-- 16&#45;&gt;6 -->\n<g id=\"edge17\" class=\"edge\">\n<title>16&#45;&gt;6</title>\n<path fill=\"none\" stroke=\"#000000\" d=\"M652.3992,-93.2962C657.5199,-91.0936 662.8974,-88.891 668,-87 693.7069,-77.4732 703.428,-82.9988 727,-69 738.2121,-62.3415 748.8292,-52.7715 757.5113,-43.7163\"/>\n<polygon fill=\"#000000\" stroke=\"#000000\" points=\"760.1312,-46.0379 764.3197,-36.3061 754.9766,-41.3018 760.1312,-46.0379\"/>\n<text text-anchor=\"middle\" x=\"783.5\" y=\"-57.8\" font-family=\"Times,serif\" font-size=\"14.00\" fill=\"#000000\">s:ratingValue</text>\n</g>\n<!-- 16&#45;&gt;10 -->\n<g id=\"edge3\" class=\"edge\">\n<title>16&#45;&gt;10</title>\n<path fill=\"none\" stroke=\"#000000\" d=\"M605.9258,-91.2146C585.3113,-77.73 553.5412,-56.948 529.1083,-40.9655\"/>\n<polygon fill=\"#000000\" stroke=\"#000000\" points=\"530.7574,-37.8621 520.4729,-35.3168 526.9255,-43.7201 530.7574,-37.8621\"/>\n<text text-anchor=\"middle\" x=\"592\" y=\"-57.8\" font-family=\"Times,serif\" font-size=\"14.00\" fill=\"#000000\">rdf:type</text>\n</g>\n<!-- 17 -->\n<g id=\"node18\" class=\"node\">\n<title>17</title>\n<ellipse fill=\"none\" stroke=\"#000000\" cx=\"1734\" cy=\"-192\" rx=\"68.7879\" ry=\"18\"/>\n<text text-anchor=\"middle\" x=\"1734\" y=\"-188.3\" font-family=\"Times,serif\" font-size=\"14.00\" fill=\"#000000\">ex:beli&#45;smart&#45;tv</text>\n</g>\n<!-- 17&#45;&gt;1 -->\n<g id=\"edge2\" class=\"edge\">\n<title>17&#45;&gt;1</title>\n<path fill=\"none\" stroke=\"#000000\" d=\"M1699.7092,-176.2776C1687.0718,-170.2335 1672.7369,-163.0803 1660,-156 1643.7621,-146.9736 1626.2588,-136.1046 1611.6922,-126.7238\"/>\n<polygon fill=\"#000000\" stroke=\"#000000\" points=\"1613.3325,-123.6158 1603.0395,-121.1051 1609.5202,-129.4867 1613.3325,-123.6158\"/>\n<text text-anchor=\"middle\" x=\"1695\" y=\"-144.8\" font-family=\"Times,serif\" font-size=\"14.00\" fill=\"#000000\">gr:hasBrand</text>\n</g>\n<!-- 17&#45;&gt;9 -->\n<g id=\"edge6\" class=\"edge\">\n<title>17&#45;&gt;9</title>\n<path fill=\"none\" stroke=\"#000000\" d=\"M1734,-173.9735C1734,-162.1918 1734,-146.5607 1734,-133.1581\"/>\n<polygon fill=\"#000000\" stroke=\"#000000\" points=\"1737.5001,-133.0033 1734,-123.0034 1730.5001,-133.0034 1737.5001,-133.0033\"/>\n<text text-anchor=\"middle\" x=\"1766.5\" y=\"-144.8\" font-family=\"Times,serif\" font-size=\"14.00\" fill=\"#000000\">gr:category</text>\n</g>\n<!-- 17&#45;&gt;15 -->\n<g id=\"edge7\" class=\"edge\">\n<title>17&#45;&gt;15</title>\n<path fill=\"none\" stroke=\"#000000\" d=\"M1765.283,-175.7411C1777.1106,-169.5774 1790.6855,-162.4834 1803,-156 1821.74,-146.1337 1842.4973,-135.1174 1859.9024,-125.8551\"/>\n<polygon fill=\"#000000\" stroke=\"#000000\" points=\"1862.0111,-128.6976 1869.1929,-120.9083 1858.7211,-122.5189 1862.0111,-128.6976\"/>\n<text text-anchor=\"middle\" x=\"1852\" y=\"-144.8\" font-family=\"Times,serif\" font-size=\"14.00\" fill=\"#000000\">rdf:type</text>\n</g>\n</g>\n</svg>\n"
          },
          "metadata": {}
        }
      ]
    },
    {
      "cell_type": "markdown",
      "metadata": {
        "id": "GGnpNTWT-Ryq"
      },
      "source": [
        "Instance 2"
      ]
    },
    {
      "cell_type": "code",
      "metadata": {
        "colab": {
          "base_uri": "https://localhost:8080/",
          "height": 332
        },
        "id": "2hbMLOH689F3",
        "outputId": "55de3197-0df9-48c9-f026-53b8c47736c1"
      },
      "source": [
        "%%rdf turtle\n",
        "@prefix rdfs: <http://www.w3.org/2000/01/rdf-schema#> .\n",
        "@prefix rdf: <http://www.w3.org/1999/02/22-rdf-syntax-ns#> .\n",
        "@prefix xsd: <http://www.w3.org/2001/XMLSchema#> .\n",
        "@prefix ex: <http://example.com/> .\n",
        "@prefix gr: <http://purl.org/goodrelations/v1#> .\n",
        "@prefix foaf: <http://xmlns.com/foaf/0.1/> .\n",
        "@prefix s: <http://schema.org/> .\n",
        "\n",
        "ex:beli-smart-tv a gr:SomeItems;\n",
        "  gr:category \"beli-smart-tv\"^^xsd:string;\n",
        "  gr:hasBrand ex:Toshiba .\n",
        "\n",
        "ex:Toshiba a gr:Brand;\n",
        "    gr:name \"Toshiba\"^^xsd:string.\n",
        "\n",
        "ex:Harga a gr:UnitPriceSpecification;\n",
        "  gr:hasCurrencyValue \"3788000\"^^xsd:currency.\n",
        "\n",
        "ex:TOSHIBA_Smart_HD_LED_TV_40 a gr:ProductOrServiceModel;\n",
        "  gr:name \"TOSHIBA Smart HD LED TV 40\"^^xsd:string;\n",
        "  gr:hasBrand ex:Toshiba;\n",
        "  gr:hasPriceSpecification ex:Harga;\n",
        "  foaf:page <https://www.lazada.co.id/products/toshiba-smart-hd-led-tv-40.html>;\n",
        "  s:aggregateRating [ a s:AggregateRating;\n",
        "                         s:ratingValue \"3\"^^xsd:integer;\n",
        "                         s:reviewCount \"3\"^^xsd:integer;\n",
        "                          ];\n",
        "  s:dateCreated \"2019-10-02\"^^xsd:date.\n"
      ],
      "execution_count": null,
      "outputs": [
        {
          "output_type": "display_data",
          "data": {
            "text/plain": [
              "<graphviz.dot.Digraph at 0x7f81a603b8d0>"
            ],
            "image/svg+xml": "<?xml version=\"1.0\" encoding=\"UTF-8\" standalone=\"no\"?>\n<!DOCTYPE svg PUBLIC \"-//W3C//DTD SVG 1.1//EN\"\n \"http://www.w3.org/Graphics/SVG/1.1/DTD/svg11.dtd\">\n<!-- Generated by graphviz version 2.40.1 (20161225.0304)\n -->\n<!-- Title: %3 Pages: 1 -->\n<svg width=\"2072pt\" height=\"218pt\"\n viewBox=\"0.00 0.00 2072.04 218.00\" xmlns=\"http://www.w3.org/2000/svg\" xmlns:xlink=\"http://www.w3.org/1999/xlink\">\n<g id=\"graph0\" class=\"graph\" transform=\"scale(1 1) rotate(0) translate(4 214)\">\n<title>%3</title>\n<polygon fill=\"#ffffff\" stroke=\"transparent\" points=\"-4,4 -4,-214 2068.0352,-214 2068.0352,4 -4,4\"/>\n<!-- 0 -->\n<g id=\"node1\" class=\"node\">\n<title>0</title>\n<ellipse fill=\"none\" stroke=\"#000000\" cx=\"104.6407\" cy=\"-18\" rx=\"104.7816\" ry=\"18\"/>\n<text text-anchor=\"middle\" x=\"104.6407\" y=\"-14.3\" font-family=\"Times,serif\" font-size=\"14.00\" fill=\"#000000\">gr:UnitPriceSpecification</text>\n</g>\n<!-- 1 -->\n<g id=\"node2\" class=\"node\">\n<title>1</title>\n<ellipse fill=\"none\" stroke=\"#000000\" cx=\"1681.6407\" cy=\"-105\" rx=\"51.9908\" ry=\"18\"/>\n<text text-anchor=\"middle\" x=\"1681.6407\" y=\"-101.3\" font-family=\"Times,serif\" font-size=\"14.00\" fill=\"#000000\">ex:Toshiba</text>\n</g>\n<!-- 4 -->\n<g id=\"node5\" class=\"node\">\n<title>4</title>\n<ellipse fill=\"none\" stroke=\"#000000\" cx=\"1748.6407\" cy=\"-18\" rx=\"44.393\" ry=\"18\"/>\n<text text-anchor=\"middle\" x=\"1748.6407\" y=\"-14.3\" font-family=\"Times,serif\" font-size=\"14.00\" fill=\"#000000\">gr:Brand</text>\n</g>\n<!-- 1&#45;&gt;4 -->\n<g id=\"edge17\" class=\"edge\">\n<title>1&#45;&gt;4</title>\n<path fill=\"none\" stroke=\"#000000\" d=\"M1695.1992,-87.3943C1704.8888,-74.8122 1718.078,-57.6859 1728.9291,-43.5957\"/>\n<polygon fill=\"#000000\" stroke=\"#000000\" points=\"1732.0025,-45.3411 1735.3311,-35.2827 1726.4565,-41.07 1732.0025,-45.3411\"/>\n<text text-anchor=\"middle\" x=\"1741.6407\" y=\"-57.8\" font-family=\"Times,serif\" font-size=\"14.00\" fill=\"#000000\">rdf:type</text>\n</g>\n<!-- 13 -->\n<g id=\"node14\" class=\"node\">\n<title>13</title>\n<polygon fill=\"none\" stroke=\"#000000\" points=\"1686.6407,-36 1542.6407,-36 1542.6407,0 1686.6407,0 1686.6407,-36\"/>\n<text text-anchor=\"middle\" x=\"1614.6407\" y=\"-14.3\" font-family=\"Times,serif\" font-size=\"14.00\" fill=\"#000000\">&quot;Toshiba&quot;^^xsd:string</text>\n</g>\n<!-- 1&#45;&gt;13 -->\n<g id=\"edge1\" class=\"edge\">\n<title>1&#45;&gt;13</title>\n<path fill=\"none\" stroke=\"#000000\" d=\"M1668.0823,-87.3943C1658.5826,-75.0589 1645.7193,-58.3558 1634.9933,-44.428\"/>\n<polygon fill=\"#000000\" stroke=\"#000000\" points=\"1637.5148,-41.9658 1628.6402,-36.1785 1631.9688,-46.2369 1637.5148,-41.9658\"/>\n<text text-anchor=\"middle\" x=\"1675.1407\" y=\"-57.8\" font-family=\"Times,serif\" font-size=\"14.00\" fill=\"#000000\">gr:name</text>\n</g>\n<!-- 2 -->\n<g id=\"node3\" class=\"node\">\n<title>2</title>\n<polygon fill=\"none\" stroke=\"#000000\" points=\"1413.1407,-36 1300.1407,-36 1300.1407,0 1413.1407,0 1413.1407,-36\"/>\n<text text-anchor=\"middle\" x=\"1356.6407\" y=\"-14.3\" font-family=\"Times,serif\" font-size=\"14.00\" fill=\"#000000\">&quot;3&quot;^^xsd:integer</text>\n</g>\n<!-- 3 -->\n<g id=\"node4\" class=\"node\">\n<title>3</title>\n<polygon fill=\"none\" stroke=\"#000000\" points=\"395.6407,-36 227.6407,-36 227.6407,0 395.6407,0 395.6407,-36\"/>\n<text text-anchor=\"middle\" x=\"311.6407\" y=\"-14.3\" font-family=\"Times,serif\" font-size=\"14.00\" fill=\"#000000\">&quot;3788000&quot;^^xsd:currency</text>\n</g>\n<!-- 5 -->\n<g id=\"node6\" class=\"node\">\n<title>5</title>\n<ellipse fill=\"none\" stroke=\"#000000\" cx=\"1264.6407\" cy=\"-105\" rx=\"32.4942\" ry=\"18\"/>\n<text text-anchor=\"middle\" x=\"1264.6407\" y=\"-101.3\" font-family=\"Times,serif\" font-size=\"14.00\" fill=\"#000000\">_:bn0</text>\n</g>\n<!-- 5&#45;&gt;2 -->\n<g id=\"edge4\" class=\"edge\">\n<title>5&#45;&gt;2</title>\n<path fill=\"none\" stroke=\"#000000\" d=\"M1260.3576,-86.9705C1258.92,-76.4608 1259.0753,-63.4571 1265.6407,-54 1271.9461,-44.9174 1280.9265,-38.1262 1290.8143,-33.0483\"/>\n<polygon fill=\"#000000\" stroke=\"#000000\" points=\"1292.4295,-36.1592 1300.0993,-28.85 1289.5454,-29.7809 1292.4295,-36.1592\"/>\n<text text-anchor=\"middle\" x=\"1303.1407\" y=\"-57.8\" font-family=\"Times,serif\" font-size=\"14.00\" fill=\"#000000\">s:ratingValue</text>\n</g>\n<!-- 5&#45;&gt;2 -->\n<g id=\"edge5\" class=\"edge\">\n<title>5&#45;&gt;2</title>\n<path fill=\"none\" stroke=\"#000000\" d=\"M1290.6826,-93.8975C1311.2309,-84.9352 1337.0223,-73.1573 1340.6407,-69 1346.2095,-62.6019 1349.8414,-54.2708 1352.2096,-46.2028\"/>\n<polygon fill=\"#000000\" stroke=\"#000000\" points=\"1355.6584,-46.8296 1354.5841,-36.2893 1348.851,-45.199 1355.6584,-46.8296\"/>\n<text text-anchor=\"middle\" x=\"1390.6407\" y=\"-57.8\" font-family=\"Times,serif\" font-size=\"14.00\" fill=\"#000000\">s:reviewCount</text>\n</g>\n<!-- 10 -->\n<g id=\"node11\" class=\"node\">\n<title>10</title>\n<ellipse fill=\"none\" stroke=\"#000000\" cx=\"1195.6407\" cy=\"-18\" rx=\"79.8859\" ry=\"18\"/>\n<text text-anchor=\"middle\" x=\"1195.6407\" y=\"-14.3\" font-family=\"Times,serif\" font-size=\"14.00\" fill=\"#000000\">s:AggregateRating</text>\n</g>\n<!-- 5&#45;&gt;10 -->\n<g id=\"edge13\" class=\"edge\">\n<title>5&#45;&gt;10</title>\n<path fill=\"none\" stroke=\"#000000\" d=\"M1239.5549,-93.2521C1221.2534,-84.4302 1199.2139,-73.1806 1196.6407,-69 1192.5557,-62.3633 1191.161,-54.2629 1191.0897,-46.4894\"/>\n<polygon fill=\"#000000\" stroke=\"#000000\" points=\"1194.598,-46.4462 1191.6843,-36.2599 1187.6098,-46.0399 1194.598,-46.4462\"/>\n<text text-anchor=\"middle\" x=\"1219.6407\" y=\"-57.8\" font-family=\"Times,serif\" font-size=\"14.00\" fill=\"#000000\">rdf:type</text>\n</g>\n<!-- 6 -->\n<g id=\"node7\" class=\"node\">\n<title>6</title>\n<polygon fill=\"none\" stroke=\"#000000\" points=\"1921.6407,-123 1751.6407,-123 1751.6407,-87 1921.6407,-87 1921.6407,-123\"/>\n<text text-anchor=\"middle\" x=\"1836.6407\" y=\"-101.3\" font-family=\"Times,serif\" font-size=\"14.00\" fill=\"#000000\">&quot;beli&#45;smart&#45;tv&quot;^^xsd:string</text>\n</g>\n<!-- 7 -->\n<g id=\"node8\" class=\"node\">\n<title>7</title>\n<polygon fill=\"none\" stroke=\"#000000\" points=\"1612.1407,-123 1315.1407,-123 1315.1407,-87 1612.1407,-87 1612.1407,-123\"/>\n<text text-anchor=\"middle\" x=\"1463.6407\" y=\"-101.3\" font-family=\"Times,serif\" font-size=\"14.00\" fill=\"#000000\">&quot;TOSHIBA Smart HD LED TV 40&quot;^^xsd:string</text>\n</g>\n<!-- 8 -->\n<g id=\"node9\" class=\"node\">\n<title>8</title>\n<ellipse fill=\"none\" stroke=\"#000000\" cx=\"207.6407\" cy=\"-105\" rx=\"44.393\" ry=\"18\"/>\n<text text-anchor=\"middle\" x=\"207.6407\" y=\"-101.3\" font-family=\"Times,serif\" font-size=\"14.00\" fill=\"#000000\">ex:Harga</text>\n</g>\n<!-- 8&#45;&gt;0 -->\n<g id=\"edge14\" class=\"edge\">\n<title>8&#45;&gt;0</title>\n<path fill=\"none\" stroke=\"#000000\" d=\"M188.2672,-88.636C172.8035,-75.5744 150.9056,-57.0781 133.3967,-42.289\"/>\n<polygon fill=\"#000000\" stroke=\"#000000\" points=\"135.5978,-39.5667 125.6998,-35.7878 131.0808,-44.9144 135.5978,-39.5667\"/>\n<text text-anchor=\"middle\" x=\"185.6407\" y=\"-57.8\" font-family=\"Times,serif\" font-size=\"14.00\" fill=\"#000000\">rdf:type</text>\n</g>\n<!-- 8&#45;&gt;3 -->\n<g id=\"edge9\" class=\"edge\">\n<title>8&#45;&gt;3</title>\n<path fill=\"none\" stroke=\"#000000\" d=\"M227.2023,-88.636C242.7141,-75.6598 264.6379,-57.3196 282.2583,-42.5795\"/>\n<polygon fill=\"#000000\" stroke=\"#000000\" points=\"284.5885,-45.1934 290.0129,-36.0925 280.097,-39.8243 284.5885,-45.1934\"/>\n<text text-anchor=\"middle\" x=\"327.1407\" y=\"-57.8\" font-family=\"Times,serif\" font-size=\"14.00\" fill=\"#000000\">gr:hasCurrencyValue</text>\n</g>\n<!-- 9 -->\n<g id=\"node10\" class=\"node\">\n<title>9</title>\n<polygon fill=\"none\" stroke=\"#000000\" points=\"437.6407,-123 279.6407,-123 279.6407,-87 437.6407,-87 437.6407,-123\"/>\n<text text-anchor=\"middle\" x=\"358.6407\" y=\"-101.3\" font-family=\"Times,serif\" font-size=\"14.00\" fill=\"#000000\">&quot;2019&#45;10&#45;02&quot;^^xsd:date</text>\n</g>\n<!-- 11 -->\n<g id=\"node12\" class=\"node\">\n<title>11</title>\n<ellipse fill=\"none\" stroke=\"#000000\" cx=\"714.6407\" cy=\"-105\" rx=\"258.8542\" ry=\"18\"/>\n<text text-anchor=\"start\" x=\"523.6407\" y=\"-101.3\" font-family=\"Times,serif\" font-size=\"14.00\" fill=\"#000000\">https://www.lazada.co.id/products/toshiba&#45;smart&#45;hd&#45;led&#45;tv&#45;40.html</text>\n</g>\n<!-- 12 -->\n<g id=\"node13\" class=\"node\">\n<title>12</title>\n<ellipse fill=\"none\" stroke=\"#000000\" cx=\"1102.6407\" cy=\"-105\" rx=\"111.5806\" ry=\"18\"/>\n<text text-anchor=\"middle\" x=\"1102.6407\" y=\"-101.3\" font-family=\"Times,serif\" font-size=\"14.00\" fill=\"#000000\">gr:ProductOrServiceModel</text>\n</g>\n<!-- 14 -->\n<g id=\"node15\" class=\"node\">\n<title>14</title>\n<ellipse fill=\"none\" stroke=\"#000000\" cx=\"2001.6407\" cy=\"-105\" rx=\"62.2891\" ry=\"18\"/>\n<text text-anchor=\"middle\" x=\"2001.6407\" y=\"-101.3\" font-family=\"Times,serif\" font-size=\"14.00\" fill=\"#000000\">gr:SomeItems</text>\n</g>\n<!-- 15 -->\n<g id=\"node16\" class=\"node\">\n<title>15</title>\n<ellipse fill=\"none\" stroke=\"#000000\" cx=\"1836.6407\" cy=\"-192\" rx=\"68.7879\" ry=\"18\"/>\n<text text-anchor=\"middle\" x=\"1836.6407\" y=\"-188.3\" font-family=\"Times,serif\" font-size=\"14.00\" fill=\"#000000\">ex:beli&#45;smart&#45;tv</text>\n</g>\n<!-- 15&#45;&gt;1 -->\n<g id=\"edge15\" class=\"edge\">\n<title>15&#45;&gt;1</title>\n<path fill=\"none\" stroke=\"#000000\" d=\"M1802.35,-176.2776C1789.7125,-170.2335 1775.3777,-163.0803 1762.6407,-156 1746.4028,-146.9736 1728.8995,-136.1046 1714.3329,-126.7238\"/>\n<polygon fill=\"#000000\" stroke=\"#000000\" points=\"1715.9732,-123.6158 1705.6802,-121.1051 1712.1609,-129.4867 1715.9732,-123.6158\"/>\n<text text-anchor=\"middle\" x=\"1797.6407\" y=\"-144.8\" font-family=\"Times,serif\" font-size=\"14.00\" fill=\"#000000\">gr:hasBrand</text>\n</g>\n<!-- 15&#45;&gt;6 -->\n<g id=\"edge2\" class=\"edge\">\n<title>15&#45;&gt;6</title>\n<path fill=\"none\" stroke=\"#000000\" d=\"M1836.6407,-173.9735C1836.6407,-162.1918 1836.6407,-146.5607 1836.6407,-133.1581\"/>\n<polygon fill=\"#000000\" stroke=\"#000000\" points=\"1840.1408,-133.0033 1836.6407,-123.0034 1833.1408,-133.0034 1840.1408,-133.0033\"/>\n<text text-anchor=\"middle\" x=\"1869.1407\" y=\"-144.8\" font-family=\"Times,serif\" font-size=\"14.00\" fill=\"#000000\">gr:category</text>\n</g>\n<!-- 15&#45;&gt;14 -->\n<g id=\"edge12\" class=\"edge\">\n<title>15&#45;&gt;14</title>\n<path fill=\"none\" stroke=\"#000000\" d=\"M1867.9237,-175.7411C1879.7513,-169.5774 1893.3262,-162.4834 1905.6407,-156 1924.3807,-146.1337 1945.138,-135.1174 1962.5431,-125.8551\"/>\n<polygon fill=\"#000000\" stroke=\"#000000\" points=\"1964.6518,-128.6976 1971.8336,-120.9083 1961.3619,-122.5189 1964.6518,-128.6976\"/>\n<text text-anchor=\"middle\" x=\"1954.6407\" y=\"-144.8\" font-family=\"Times,serif\" font-size=\"14.00\" fill=\"#000000\">rdf:type</text>\n</g>\n<!-- 16 -->\n<g id=\"node17\" class=\"node\">\n<title>16</title>\n<ellipse fill=\"none\" stroke=\"#000000\" cx=\"1102.6407\" cy=\"-192\" rx=\"163.5712\" ry=\"18\"/>\n<text text-anchor=\"middle\" x=\"1102.6407\" y=\"-188.3\" font-family=\"Times,serif\" font-size=\"14.00\" fill=\"#000000\">ex:TOSHIBA_Smart_HD_LED_TV_40</text>\n</g>\n<!-- 16&#45;&gt;1 -->\n<g id=\"edge16\" class=\"edge\">\n<title>16&#45;&gt;1</title>\n<path fill=\"none\" stroke=\"#000000\" d=\"M1233.3468,-181.1211C1338.9835,-170.7767 1491.0557,-152.3642 1621.6407,-123 1625.5284,-122.1258 1629.5324,-121.1331 1633.5397,-120.0737\"/>\n<polygon fill=\"#000000\" stroke=\"#000000\" points=\"1634.7393,-123.3734 1643.4433,-117.3326 1632.872,-116.627 1634.7393,-123.3734\"/>\n<text text-anchor=\"middle\" x=\"1557.6407\" y=\"-144.8\" font-family=\"Times,serif\" font-size=\"14.00\" fill=\"#000000\">gr:hasBrand</text>\n</g>\n<!-- 16&#45;&gt;5 -->\n<g id=\"edge6\" class=\"edge\">\n<title>16&#45;&gt;5</title>\n<path fill=\"none\" stroke=\"#000000\" d=\"M1135.8148,-174.1843C1163.9253,-159.0879 1204.0088,-137.5616 1231.974,-122.5432\"/>\n<polygon fill=\"#000000\" stroke=\"#000000\" points=\"1233.8045,-125.533 1240.9585,-117.7182 1230.4926,-119.3661 1233.8045,-125.533\"/>\n<text text-anchor=\"middle\" x=\"1244.1407\" y=\"-144.8\" font-family=\"Times,serif\" font-size=\"14.00\" fill=\"#000000\">s:aggregateRating</text>\n</g>\n<!-- 16&#45;&gt;7 -->\n<g id=\"edge7\" class=\"edge\">\n<title>16&#45;&gt;7</title>\n<path fill=\"none\" stroke=\"#000000\" d=\"M1196.8266,-177.1736C1229.556,-171.392 1266.3852,-164.1777 1299.6407,-156 1333.7364,-147.6157 1371.1652,-136.1538 1401.6465,-126.2197\"/>\n<polygon fill=\"#000000\" stroke=\"#000000\" points=\"1402.8773,-129.4994 1411.2859,-123.0538 1400.693,-122.8489 1402.8773,-129.4994\"/>\n<text text-anchor=\"middle\" x=\"1377.1407\" y=\"-144.8\" font-family=\"Times,serif\" font-size=\"14.00\" fill=\"#000000\">gr:name</text>\n</g>\n<!-- 16&#45;&gt;8 -->\n<g id=\"edge10\" class=\"edge\">\n<title>16&#45;&gt;8</title>\n<path fill=\"none\" stroke=\"#000000\" d=\"M941.2158,-188.8759C808.5443,-184.9267 615.8847,-176.0222 448.6407,-156 368.752,-146.4359 348.9663,-141.406 270.6407,-123 264.8946,-121.6497 258.8895,-120.1072 252.9665,-118.506\"/>\n<polygon fill=\"#000000\" stroke=\"#000000\" points=\"253.7079,-115.0796 243.1362,-115.7793 251.8368,-121.8249 253.7079,-115.0796\"/>\n<text text-anchor=\"middle\" x=\"517.6407\" y=\"-144.8\" font-family=\"Times,serif\" font-size=\"14.00\" fill=\"#000000\">gr:hasPriceSpecification</text>\n</g>\n<!-- 16&#45;&gt;9 -->\n<g id=\"edge11\" class=\"edge\">\n<title>16&#45;&gt;9</title>\n<path fill=\"none\" stroke=\"#000000\" d=\"M968.0308,-181.6835C837.4132,-170.7859 633.4849,-151.4302 447.685,-123.0843\"/>\n<polygon fill=\"#000000\" stroke=\"#000000\" points=\"448.1452,-119.614 437.7296,-121.5541 447.0817,-126.5328 448.1452,-119.614\"/>\n<text text-anchor=\"middle\" x=\"736.6407\" y=\"-144.8\" font-family=\"Times,serif\" font-size=\"14.00\" fill=\"#000000\">s:dateCreated</text>\n</g>\n<!-- 16&#45;&gt;11 -->\n<g id=\"edge8\" class=\"edge\">\n<title>16&#45;&gt;11</title>\n<path fill=\"none\" stroke=\"#000000\" d=\"M1030.116,-175.738C965.3084,-161.2064 870.2374,-139.8889 801.4151,-124.4571\"/>\n<polygon fill=\"#000000\" stroke=\"#000000\" points=\"801.9817,-120.9974 791.4582,-122.2245 800.4501,-127.8278 801.9817,-120.9974\"/>\n<text text-anchor=\"middle\" x=\"959.6407\" y=\"-144.8\" font-family=\"Times,serif\" font-size=\"14.00\" fill=\"#000000\">foaf:page</text>\n</g>\n<!-- 16&#45;&gt;12 -->\n<g id=\"edge3\" class=\"edge\">\n<title>16&#45;&gt;12</title>\n<path fill=\"none\" stroke=\"#000000\" d=\"M1102.6407,-173.9735C1102.6407,-162.1918 1102.6407,-146.5607 1102.6407,-133.1581\"/>\n<polygon fill=\"#000000\" stroke=\"#000000\" points=\"1106.1408,-133.0033 1102.6407,-123.0034 1099.1408,-133.0034 1106.1408,-133.0033\"/>\n<text text-anchor=\"middle\" x=\"1125.6407\" y=\"-144.8\" font-family=\"Times,serif\" font-size=\"14.00\" fill=\"#000000\">rdf:type</text>\n</g>\n</g>\n</svg>\n"
          },
          "metadata": {}
        }
      ]
    },
    {
      "cell_type": "markdown",
      "metadata": {
        "id": "4RRU49te-Sus"
      },
      "source": [
        "Instance 3"
      ]
    },
    {
      "cell_type": "code",
      "metadata": {
        "colab": {
          "base_uri": "https://localhost:8080/",
          "height": 332
        },
        "id": "AiX3yiei89Qm",
        "outputId": "39770537-4b6e-4370-8e1c-7b68a6a2d0b4"
      },
      "source": [
        "%%rdf turtle\n",
        "@prefix rdfs: <http://www.w3.org/2000/01/rdf-schema#> .\n",
        "@prefix rdf: <http://www.w3.org/1999/02/22-rdf-syntax-ns#> .\n",
        "@prefix xsd: <http://www.w3.org/2001/XMLSchema#> .\n",
        "@prefix ex: <http://example.com/> .\n",
        "@prefix gr: <http://purl.org/goodrelations/v1#> .\n",
        "@prefix foaf: <http://xmlns.com/foaf/0.1/> .\n",
        "@prefix s: <http://schema.org/> .\n",
        "\n",
        "ex:beli-smart-tv a gr:SomeItems;\n",
        "  gr:category \"beli-smart-tv\"^^xsd:string;\n",
        "  gr:hasBrand ex:Sharp .\n",
        "\n",
        "ex:Sharp a gr:Brand;\n",
        "    gr:name \"Sharp\"^^xsd:string.\n",
        "\n",
        "ex:Harga a gr:UnitPriceSpecification;\n",
        "  gr:hasCurrencyValue \"1275000\"^^xsd:currency.\n",
        "\n",
        "ex:Sharp_HD_LED_TV_24 a gr:ProductOrServiceModel;\n",
        "  gr:name \"Sharp HD LED TV 24\"^^xsd:string;\n",
        "  gr:hasBrand ex:Sharp;\n",
        "  gr:hasPriceSpecification ex:Harga;\n",
        "  foaf:page <https://www.lazada.co.id/products/sharp-hd-led-tv-24-lc-24le175i-hitam-i100004505-s100007387.html>;\n",
        "  s:aggregateRating [ a s:AggregateRating;\n",
        "                         s:ratingValue \"3\"^^xsd:integer;\n",
        "                         s:reviewCount \"11\"^^xsd:integer;\n",
        "                          ];\n",
        "  s:dateCreated \"2019-10-02\"^^xsd:date.\n"
      ],
      "execution_count": null,
      "outputs": [
        {
          "output_type": "display_data",
          "data": {
            "text/plain": [
              "<graphviz.dot.Digraph at 0x7f81a4058790>"
            ],
            "image/svg+xml": "<?xml version=\"1.0\" encoding=\"UTF-8\" standalone=\"no\"?>\n<!DOCTYPE svg PUBLIC \"-//W3C//DTD SVG 1.1//EN\"\n \"http://www.w3.org/Graphics/SVG/1.1/DTD/svg11.dtd\">\n<!-- Generated by graphviz version 2.40.1 (20161225.0304)\n -->\n<!-- Title: %3 Pages: 1 -->\n<svg width=\"2142pt\" height=\"218pt\"\n viewBox=\"0.00 0.00 2142.11 218.00\" xmlns=\"http://www.w3.org/2000/svg\" xmlns:xlink=\"http://www.w3.org/1999/xlink\">\n<g id=\"graph0\" class=\"graph\" transform=\"scale(1 1) rotate(0) translate(4 214)\">\n<title>%3</title>\n<polygon fill=\"#ffffff\" stroke=\"transparent\" points=\"-4,4 -4,-214 2138.1148,-214 2138.1148,4 -4,4\"/>\n<!-- 0 -->\n<g id=\"node1\" class=\"node\">\n<title>0</title>\n<ellipse fill=\"none\" stroke=\"#000000\" cx=\"808.1148\" cy=\"-18\" rx=\"104.7816\" ry=\"18\"/>\n<text text-anchor=\"middle\" x=\"808.1148\" y=\"-14.3\" font-family=\"Times,serif\" font-size=\"14.00\" fill=\"#000000\">gr:UnitPriceSpecification</text>\n</g>\n<!-- 1 -->\n<g id=\"node2\" class=\"node\">\n<title>1</title>\n<ellipse fill=\"none\" stroke=\"#000000\" cx=\"1193.1148\" cy=\"-192\" rx=\"118.0794\" ry=\"18\"/>\n<text text-anchor=\"middle\" x=\"1193.1148\" y=\"-188.3\" font-family=\"Times,serif\" font-size=\"14.00\" fill=\"#000000\">ex:Sharp_HD_LED_TV_24</text>\n</g>\n<!-- 5 -->\n<g id=\"node6\" class=\"node\">\n<title>5</title>\n<ellipse fill=\"none\" stroke=\"#000000\" cx=\"397.1148\" cy=\"-105\" rx=\"397.2296\" ry=\"18\"/>\n<text text-anchor=\"start\" x=\"99.6148\" y=\"-101.3\" font-family=\"Times,serif\" font-size=\"14.00\" fill=\"#000000\">https://www.lazada.co.id/products/sharp&#45;hd&#45;led&#45;tv&#45;24&#45;lc&#45;24le175i&#45;hitam&#45;i100004505&#45;s100007387.html</text>\n</g>\n<!-- 1&#45;&gt;5 -->\n<g id=\"edge9\" class=\"edge\">\n<title>1&#45;&gt;5</title>\n<path fill=\"none\" stroke=\"#000000\" d=\"M1096.7023,-181.4625C963.4186,-166.895 721.0681,-140.407 559.5593,-122.7546\"/>\n<polygon fill=\"#000000\" stroke=\"#000000\" points=\"559.8438,-119.265 549.5227,-121.6577 559.0832,-126.2235 559.8438,-119.265\"/>\n<text text-anchor=\"middle\" x=\"870.1148\" y=\"-144.8\" font-family=\"Times,serif\" font-size=\"14.00\" fill=\"#000000\">foaf:page</text>\n</g>\n<!-- 6 -->\n<g id=\"node7\" class=\"node\">\n<title>6</title>\n<polygon fill=\"none\" stroke=\"#000000\" points=\"970.1148,-123 812.1148,-123 812.1148,-87 970.1148,-87 970.1148,-123\"/>\n<text text-anchor=\"middle\" x=\"891.1148\" y=\"-101.3\" font-family=\"Times,serif\" font-size=\"14.00\" fill=\"#000000\">&quot;2019&#45;10&#45;02&quot;^^xsd:date</text>\n</g>\n<!-- 1&#45;&gt;6 -->\n<g id=\"edge8\" class=\"edge\">\n<title>1&#45;&gt;6</title>\n<path fill=\"none\" stroke=\"#000000\" d=\"M1093.3016,-182.268C1039.3759,-175.9685 978.8822,-166.9126 954.1148,-156 940.0219,-149.7906 926.465,-139.57 915.5613,-129.9024\"/>\n<polygon fill=\"#000000\" stroke=\"#000000\" points=\"917.8404,-127.2429 908.1209,-123.0259 913.0893,-132.3836 917.8404,-127.2429\"/>\n<text text-anchor=\"middle\" x=\"992.1148\" y=\"-144.8\" font-family=\"Times,serif\" font-size=\"14.00\" fill=\"#000000\">s:dateCreated</text>\n</g>\n<!-- 8 -->\n<g id=\"node9\" class=\"node\">\n<title>8</title>\n<ellipse fill=\"none\" stroke=\"#000000\" cx=\"1032.1148\" cy=\"-105\" rx=\"44.393\" ry=\"18\"/>\n<text text-anchor=\"middle\" x=\"1032.1148\" y=\"-101.3\" font-family=\"Times,serif\" font-size=\"14.00\" fill=\"#000000\">ex:Harga</text>\n</g>\n<!-- 1&#45;&gt;8 -->\n<g id=\"edge10\" class=\"edge\">\n<title>1&#45;&gt;8</title>\n<path fill=\"none\" stroke=\"#000000\" d=\"M1105.8153,-179.7609C1077.436,-174.0446 1050.747,-166.2066 1041.1148,-156 1035.3874,-149.9311 1032.6299,-141.5592 1031.4417,-133.3519\"/>\n<polygon fill=\"#000000\" stroke=\"#000000\" points=\"1034.9202,-132.935 1030.6705,-123.2298 1027.9404,-133.4669 1034.9202,-132.935\"/>\n<text text-anchor=\"middle\" x=\"1110.1148\" y=\"-144.8\" font-family=\"Times,serif\" font-size=\"14.00\" fill=\"#000000\">gr:hasPriceSpecification</text>\n</g>\n<!-- 10 -->\n<g id=\"node11\" class=\"node\">\n<title>10</title>\n<ellipse fill=\"none\" stroke=\"#000000\" cx=\"1174.1148\" cy=\"-105\" rx=\"32.4942\" ry=\"18\"/>\n<text text-anchor=\"middle\" x=\"1174.1148\" y=\"-101.3\" font-family=\"Times,serif\" font-size=\"14.00\" fill=\"#000000\">_:bn0</text>\n</g>\n<!-- 1&#45;&gt;10 -->\n<g id=\"edge5\" class=\"edge\">\n<title>1&#45;&gt;10</title>\n<path fill=\"none\" stroke=\"#000000\" d=\"M1189.178,-173.9735C1186.6049,-162.1918 1183.1912,-146.5607 1180.2642,-133.1581\"/>\n<polygon fill=\"#000000\" stroke=\"#000000\" points=\"1183.5996,-132.0263 1178.0465,-123.0034 1176.7608,-133.5199 1183.5996,-132.0263\"/>\n<text text-anchor=\"middle\" x=\"1236.6148\" y=\"-144.8\" font-family=\"Times,serif\" font-size=\"14.00\" fill=\"#000000\">s:aggregateRating</text>\n</g>\n<!-- 14 -->\n<g id=\"node15\" class=\"node\">\n<title>14</title>\n<ellipse fill=\"none\" stroke=\"#000000\" cx=\"1336.1148\" cy=\"-105\" rx=\"111.5806\" ry=\"18\"/>\n<text text-anchor=\"middle\" x=\"1336.1148\" y=\"-101.3\" font-family=\"Times,serif\" font-size=\"14.00\" fill=\"#000000\">gr:ProductOrServiceModel</text>\n</g>\n<!-- 1&#45;&gt;14 -->\n<g id=\"edge16\" class=\"edge\">\n<title>1&#45;&gt;14</title>\n<path fill=\"none\" stroke=\"#000000\" d=\"M1251.5584,-176.3237C1265.5322,-171.1043 1279.9208,-164.4116 1292.1148,-156 1301.8429,-149.2893 1310.7475,-139.9288 1317.9627,-131.0566\"/>\n<polygon fill=\"#000000\" stroke=\"#000000\" points=\"1320.7394,-133.1872 1324.089,-123.1358 1315.2024,-128.9045 1320.7394,-133.1872\"/>\n<text text-anchor=\"middle\" x=\"1332.1148\" y=\"-144.8\" font-family=\"Times,serif\" font-size=\"14.00\" fill=\"#000000\">rdf:type</text>\n</g>\n<!-- 15 -->\n<g id=\"node16\" class=\"node\">\n<title>15</title>\n<polygon fill=\"none\" stroke=\"#000000\" points=\"1696.6148,-123 1465.6148,-123 1465.6148,-87 1696.6148,-87 1696.6148,-123\"/>\n<text text-anchor=\"middle\" x=\"1581.1148\" y=\"-101.3\" font-family=\"Times,serif\" font-size=\"14.00\" fill=\"#000000\">&quot;Sharp HD LED TV 24&quot;^^xsd:string</text>\n</g>\n<!-- 1&#45;&gt;15 -->\n<g id=\"edge7\" class=\"edge\">\n<title>1&#45;&gt;15</title>\n<path fill=\"none\" stroke=\"#000000\" d=\"M1261.8059,-177.3006C1291.7168,-170.8488 1327.1683,-163.1333 1359.1148,-156 1403.5056,-146.088 1452.8203,-134.7879 1493.6738,-125.3479\"/>\n<polygon fill=\"#000000\" stroke=\"#000000\" points=\"1494.6449,-128.7158 1503.5992,-123.0526 1493.0677,-121.8958 1494.6449,-128.7158\"/>\n<text text-anchor=\"middle\" x=\"1444.6148\" y=\"-144.8\" font-family=\"Times,serif\" font-size=\"14.00\" fill=\"#000000\">gr:name</text>\n</g>\n<!-- 17 -->\n<g id=\"node18\" class=\"node\">\n<title>17</title>\n<ellipse fill=\"none\" stroke=\"#000000\" cx=\"1759.1148\" cy=\"-105\" rx=\"44.393\" ry=\"18\"/>\n<text text-anchor=\"middle\" x=\"1759.1148\" y=\"-101.3\" font-family=\"Times,serif\" font-size=\"14.00\" fill=\"#000000\">ex:Sharp</text>\n</g>\n<!-- 1&#45;&gt;17 -->\n<g id=\"edge13\" class=\"edge\">\n<title>1&#45;&gt;17</title>\n<path fill=\"none\" stroke=\"#000000\" d=\"M1298.6361,-183.8198C1402.926,-174.3252 1566.5174,-155.6305 1705.1148,-123 1708.743,-122.1458 1712.4743,-121.1526 1716.1996,-120.0798\"/>\n<polygon fill=\"#000000\" stroke=\"#000000\" points=\"1717.4301,-123.3636 1725.9716,-117.0952 1715.3854,-116.6689 1717.4301,-123.3636\"/>\n<text text-anchor=\"middle\" x=\"1644.1148\" y=\"-144.8\" font-family=\"Times,serif\" font-size=\"14.00\" fill=\"#000000\">gr:hasBrand</text>\n</g>\n<!-- 2 -->\n<g id=\"node3\" class=\"node\">\n<title>2</title>\n<polygon fill=\"none\" stroke=\"#000000\" points=\"1230.6148,-36 1117.6148,-36 1117.6148,0 1230.6148,0 1230.6148,-36\"/>\n<text text-anchor=\"middle\" x=\"1174.1148\" y=\"-14.3\" font-family=\"Times,serif\" font-size=\"14.00\" fill=\"#000000\">&quot;3&quot;^^xsd:integer</text>\n</g>\n<!-- 3 -->\n<g id=\"node4\" class=\"node\">\n<title>3</title>\n<ellipse fill=\"none\" stroke=\"#000000\" cx=\"1884.1148\" cy=\"-105\" rx=\"62.2891\" ry=\"18\"/>\n<text text-anchor=\"middle\" x=\"1884.1148\" y=\"-101.3\" font-family=\"Times,serif\" font-size=\"14.00\" fill=\"#000000\">gr:SomeItems</text>\n</g>\n<!-- 4 -->\n<g id=\"node5\" class=\"node\">\n<title>4</title>\n<ellipse fill=\"none\" stroke=\"#000000\" cx=\"1695.1148\" cy=\"-18\" rx=\"44.393\" ry=\"18\"/>\n<text text-anchor=\"middle\" x=\"1695.1148\" y=\"-14.3\" font-family=\"Times,serif\" font-size=\"14.00\" fill=\"#000000\">gr:Brand</text>\n</g>\n<!-- 7 -->\n<g id=\"node8\" class=\"node\">\n<title>7</title>\n<polygon fill=\"none\" stroke=\"#000000\" points=\"2134.1148,-123 1964.1148,-123 1964.1148,-87 2134.1148,-87 2134.1148,-123\"/>\n<text text-anchor=\"middle\" x=\"2049.1148\" y=\"-101.3\" font-family=\"Times,serif\" font-size=\"14.00\" fill=\"#000000\">&quot;beli&#45;smart&#45;tv&quot;^^xsd:string</text>\n</g>\n<!-- 8&#45;&gt;0 -->\n<g id=\"edge2\" class=\"edge\">\n<title>8&#45;&gt;0</title>\n<path fill=\"none\" stroke=\"#000000\" d=\"M1000.021,-92.535C963.5818,-78.3823 903.5961,-55.0843 860.3818,-38.3001\"/>\n<polygon fill=\"#000000\" stroke=\"#000000\" points=\"861.4709,-34.9685 850.8821,-34.6105 858.9365,-41.4936 861.4709,-34.9685\"/>\n<text text-anchor=\"middle\" x=\"957.1148\" y=\"-57.8\" font-family=\"Times,serif\" font-size=\"14.00\" fill=\"#000000\">rdf:type</text>\n</g>\n<!-- 12 -->\n<g id=\"node13\" class=\"node\">\n<title>12</title>\n<polygon fill=\"none\" stroke=\"#000000\" points=\"1099.1148,-36 931.1148,-36 931.1148,0 1099.1148,0 1099.1148,-36\"/>\n<text text-anchor=\"middle\" x=\"1015.1148\" y=\"-14.3\" font-family=\"Times,serif\" font-size=\"14.00\" fill=\"#000000\">&quot;1275000&quot;^^xsd:currency</text>\n</g>\n<!-- 8&#45;&gt;12 -->\n<g id=\"edge12\" class=\"edge\">\n<title>8&#45;&gt;12</title>\n<path fill=\"none\" stroke=\"#000000\" d=\"M1028.5924,-86.9735C1026.2902,-75.1918 1023.2358,-59.5607 1020.6169,-46.1581\"/>\n<polygon fill=\"#000000\" stroke=\"#000000\" points=\"1023.9855,-45.1465 1018.6327,-36.0034 1017.1155,-46.489 1023.9855,-45.1465\"/>\n<text text-anchor=\"middle\" x=\"1085.6148\" y=\"-57.8\" font-family=\"Times,serif\" font-size=\"14.00\" fill=\"#000000\">gr:hasCurrencyValue</text>\n</g>\n<!-- 9 -->\n<g id=\"node10\" class=\"node\">\n<title>9</title>\n<ellipse fill=\"none\" stroke=\"#000000\" cx=\"1328.1148\" cy=\"-18\" rx=\"79.8859\" ry=\"18\"/>\n<text text-anchor=\"middle\" x=\"1328.1148\" y=\"-14.3\" font-family=\"Times,serif\" font-size=\"14.00\" fill=\"#000000\">s:AggregateRating</text>\n</g>\n<!-- 10&#45;&gt;2 -->\n<g id=\"edge4\" class=\"edge\">\n<title>10&#45;&gt;2</title>\n<path fill=\"none\" stroke=\"#000000\" d=\"M1174.1148,-86.9735C1174.1148,-75.1918 1174.1148,-59.5607 1174.1148,-46.1581\"/>\n<polygon fill=\"#000000\" stroke=\"#000000\" points=\"1177.6149,-46.0033 1174.1148,-36.0034 1170.6149,-46.0034 1177.6149,-46.0033\"/>\n<text text-anchor=\"middle\" x=\"1211.6148\" y=\"-57.8\" font-family=\"Times,serif\" font-size=\"14.00\" fill=\"#000000\">s:ratingValue</text>\n</g>\n<!-- 10&#45;&gt;9 -->\n<g id=\"edge15\" class=\"edge\">\n<title>10&#45;&gt;9</title>\n<path fill=\"none\" stroke=\"#000000\" d=\"M1199.7494,-93.579C1220.8532,-84.1333 1248.09,-71.8264 1253.1148,-69 1267.8627,-60.7045 1283.4446,-50.3869 1296.5617,-41.2065\"/>\n<polygon fill=\"#000000\" stroke=\"#000000\" points=\"1298.6591,-44.0099 1304.792,-35.3706 1294.6101,-38.2997 1298.6591,-44.0099\"/>\n<text text-anchor=\"middle\" x=\"1300.1148\" y=\"-57.8\" font-family=\"Times,serif\" font-size=\"14.00\" fill=\"#000000\">rdf:type</text>\n</g>\n<!-- 13 -->\n<g id=\"node14\" class=\"node\">\n<title>13</title>\n<polygon fill=\"none\" stroke=\"#000000\" points=\"1544.6148,-36 1425.6148,-36 1425.6148,0 1544.6148,0 1544.6148,-36\"/>\n<text text-anchor=\"middle\" x=\"1485.1148\" y=\"-14.3\" font-family=\"Times,serif\" font-size=\"14.00\" fill=\"#000000\">&quot;11&quot;^^xsd:integer</text>\n</g>\n<!-- 10&#45;&gt;13 -->\n<g id=\"edge14\" class=\"edge\">\n<title>10&#45;&gt;13</title>\n<path fill=\"none\" stroke=\"#000000\" d=\"M1198.8887,-92.9221C1204.1537,-90.6977 1209.7458,-88.5818 1215.1148,-87 1263.476,-72.7515 1278.0932,-80.7778 1327.1148,-69 1360.3526,-61.0143 1396.703,-49.4826 1426.1491,-39.4039\"/>\n<polygon fill=\"#000000\" stroke=\"#000000\" points=\"1427.5479,-42.6237 1435.856,-36.0489 1425.2612,-36.0077 1427.5479,-42.6237\"/>\n<text text-anchor=\"middle\" x=\"1422.1148\" y=\"-57.8\" font-family=\"Times,serif\" font-size=\"14.00\" fill=\"#000000\">s:reviewCount</text>\n</g>\n<!-- 11 -->\n<g id=\"node12\" class=\"node\">\n<title>11</title>\n<polygon fill=\"none\" stroke=\"#000000\" points=\"1889.1148,-36 1757.1148,-36 1757.1148,0 1889.1148,0 1889.1148,-36\"/>\n<text text-anchor=\"middle\" x=\"1823.1148\" y=\"-14.3\" font-family=\"Times,serif\" font-size=\"14.00\" fill=\"#000000\">&quot;Sharp&quot;^^xsd:string</text>\n</g>\n<!-- 16 -->\n<g id=\"node17\" class=\"node\">\n<title>16</title>\n<ellipse fill=\"none\" stroke=\"#000000\" cx=\"1884.1148\" cy=\"-192\" rx=\"68.7879\" ry=\"18\"/>\n<text text-anchor=\"middle\" x=\"1884.1148\" y=\"-188.3\" font-family=\"Times,serif\" font-size=\"14.00\" fill=\"#000000\">ex:beli&#45;smart&#45;tv</text>\n</g>\n<!-- 16&#45;&gt;3 -->\n<g id=\"edge11\" class=\"edge\">\n<title>16&#45;&gt;3</title>\n<path fill=\"none\" stroke=\"#000000\" d=\"M1884.1148,-173.9735C1884.1148,-162.1918 1884.1148,-146.5607 1884.1148,-133.1581\"/>\n<polygon fill=\"#000000\" stroke=\"#000000\" points=\"1887.6149,-133.0033 1884.1148,-123.0034 1880.6149,-133.0034 1887.6149,-133.0033\"/>\n<text text-anchor=\"middle\" x=\"1907.1148\" y=\"-144.8\" font-family=\"Times,serif\" font-size=\"14.00\" fill=\"#000000\">rdf:type</text>\n</g>\n<!-- 16&#45;&gt;7 -->\n<g id=\"edge6\" class=\"edge\">\n<title>16&#45;&gt;7</title>\n<path fill=\"none\" stroke=\"#000000\" d=\"M1914.7633,-175.8399C1940.4125,-162.3158 1977.3064,-142.8626 2005.9454,-127.762\"/>\n<polygon fill=\"#000000\" stroke=\"#000000\" points=\"2007.7158,-130.7854 2014.929,-123.0252 2004.4509,-124.5934 2007.7158,-130.7854\"/>\n<text text-anchor=\"middle\" x=\"2009.6148\" y=\"-144.8\" font-family=\"Times,serif\" font-size=\"14.00\" fill=\"#000000\">gr:category</text>\n</g>\n<!-- 16&#45;&gt;17 -->\n<g id=\"edge1\" class=\"edge\">\n<title>16&#45;&gt;17</title>\n<path fill=\"none\" stroke=\"#000000\" d=\"M1846.6185,-176.7175C1834.4834,-171.0112 1821.2847,-163.9589 1810.1148,-156 1799.439,-148.3932 1788.966,-138.4791 1780.3152,-129.4169\"/>\n<polygon fill=\"#000000\" stroke=\"#000000\" points=\"1782.8764,-127.0314 1773.5127,-122.0743 1777.7414,-131.7887 1782.8764,-127.0314\"/>\n<text text-anchor=\"middle\" x=\"1845.1148\" y=\"-144.8\" font-family=\"Times,serif\" font-size=\"14.00\" fill=\"#000000\">gr:hasBrand</text>\n</g>\n<!-- 17&#45;&gt;4 -->\n<g id=\"edge3\" class=\"edge\">\n<title>17&#45;&gt;4</title>\n<path fill=\"none\" stroke=\"#000000\" d=\"M1746.1634,-87.3943C1736.9077,-74.8122 1724.309,-57.6859 1713.9438,-43.5957\"/>\n<polygon fill=\"#000000\" stroke=\"#000000\" points=\"1716.5735,-41.2639 1707.8284,-35.2827 1710.9348,-45.4119 1716.5735,-41.2639\"/>\n<text text-anchor=\"middle\" x=\"1754.1148\" y=\"-57.8\" font-family=\"Times,serif\" font-size=\"14.00\" fill=\"#000000\">rdf:type</text>\n</g>\n<!-- 17&#45;&gt;11 -->\n<g id=\"edge17\" class=\"edge\">\n<title>17&#45;&gt;11</title>\n<path fill=\"none\" stroke=\"#000000\" d=\"M1772.0661,-87.3943C1781.1404,-75.0589 1793.4277,-58.3558 1803.6735,-44.428\"/>\n<polygon fill=\"#000000\" stroke=\"#000000\" points=\"1806.6357,-46.3077 1809.7421,-36.1785 1800.9971,-42.1597 1806.6357,-46.3077\"/>\n<text text-anchor=\"middle\" x=\"1818.6148\" y=\"-57.8\" font-family=\"Times,serif\" font-size=\"14.00\" fill=\"#000000\">gr:name</text>\n</g>\n</g>\n</svg>\n"
          },
          "metadata": {}
        }
      ]
    },
    {
      "cell_type": "markdown",
      "metadata": {
        "id": "mYVSLWksB1yT"
      },
      "source": [
        "\n",
        "\n",
        "---\n",
        "\n",
        "\n",
        "## **Daftar Pustaka:**\n",
        "\n",
        "\n",
        "\n",
        "\n",
        "\n",
        "\n",
        "\n"
      ]
    },
    {
      "cell_type": "markdown",
      "metadata": {
        "id": "XOHq8NHasVqP"
      },
      "source": [
        "1.   Rakhmawati, N. A. (2015). Semantic Web dan Linked Data. Yogyakarta, Indonesia: SiBuku.\n",
        "2. alamat DOI zenodo python notebook\n"
      ]
    }
  ]
}